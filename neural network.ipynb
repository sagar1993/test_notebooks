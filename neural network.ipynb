{
 "cells": [
  {
   "cell_type": "code",
   "execution_count": 69,
   "metadata": {},
   "outputs": [],
   "source": [
    "import tensorflow as tf\n",
    "import matplotlib.pyplot as plt\n",
    "%matplotlib inline\n",
    "import numpy as np\n",
    "import pandas as pd"
   ]
  },
  {
   "cell_type": "code",
   "execution_count": 74,
   "metadata": {},
   "outputs": [],
   "source": [
    "df = pd.read_csv('./cleaned_train.csv', index_col=0)"
   ]
  },
  {
   "cell_type": "code",
   "execution_count": 75,
   "metadata": {},
   "outputs": [
    {
     "data": {
      "text/html": [
       "<div>\n",
       "<style scoped>\n",
       "    .dataframe tbody tr th:only-of-type {\n",
       "        vertical-align: middle;\n",
       "    }\n",
       "\n",
       "    .dataframe tbody tr th {\n",
       "        vertical-align: top;\n",
       "    }\n",
       "\n",
       "    .dataframe thead th {\n",
       "        text-align: right;\n",
       "    }\n",
       "</style>\n",
       "<table border=\"1\" class=\"dataframe\">\n",
       "  <thead>\n",
       "    <tr style=\"text-align: right;\">\n",
       "      <th></th>\n",
       "      <th>gold_label</th>\n",
       "      <th>sentence1</th>\n",
       "      <th>sentence2</th>\n",
       "      <th>sentence1_embedd</th>\n",
       "      <th>sentence2_embedd</th>\n",
       "    </tr>\n",
       "  </thead>\n",
       "  <tbody>\n",
       "    <tr>\n",
       "      <th>0</th>\n",
       "      <td>0</td>\n",
       "      <td>read slate s take jacksons findings</td>\n",
       "      <td>slate opinion jacksons findings</td>\n",
       "      <td>[array([0., 0., 0., 0., 0., 0., 0., 0., 0., 0....</td>\n",
       "      <td>[array([0., 0., 0., 0., 0., 0., 0., 0., 0., 0....</td>\n",
       "    </tr>\n",
       "    <tr>\n",
       "      <th>1</th>\n",
       "      <td>1</td>\n",
       "      <td>gays lesbians</td>\n",
       "      <td>heterosexuals</td>\n",
       "      <td>[array([0., 0., 0., 0., 0., 0., 0., 0., 0., 0....</td>\n",
       "      <td>[array([0., 0., 0., 0., 0., 0., 0., 0., 0., 0....</td>\n",
       "    </tr>\n",
       "    <tr>\n",
       "      <th>2</th>\n",
       "      <td>1</td>\n",
       "      <td>fun adults children</td>\n",
       "      <td>fun children</td>\n",
       "      <td>[array([0., 0., 0., 0., 0., 0., 0., 0., 0., 0....</td>\n",
       "      <td>[array([0., 0., 0., 0., 0., 0., 0., 0., 0., 0....</td>\n",
       "    </tr>\n",
       "    <tr>\n",
       "      <th>3</th>\n",
       "      <td>0</td>\n",
       "      <td>issues data synthesis</td>\n",
       "      <td>problems data synthesis</td>\n",
       "      <td>[array([0., 0., 0., 0., 0., 0., 0., 0., 0., 0....</td>\n",
       "      <td>[array([0., 0., 0., 0., 0., 0., 0., 0., 0., 0....</td>\n",
       "    </tr>\n",
       "    <tr>\n",
       "      <th>4</th>\n",
       "      <td>0</td>\n",
       "      <td>well see television also</td>\n",
       "      <td>see television  well</td>\n",
       "      <td>[array([0., 0., 0., 0., 0., 0., 0., 0., 0., 0....</td>\n",
       "      <td>[array([0., 0., 0., 0., 0., 0., 0., 0., 0., 0....</td>\n",
       "    </tr>\n",
       "  </tbody>\n",
       "</table>\n",
       "</div>"
      ],
      "text/plain": [
       "   gold_label                               sentence1  \\\n",
       "0           0   read slate s take jacksons findings     \n",
       "1           1                          gays lesbians    \n",
       "2           1                    fun adults children    \n",
       "3           0                  issues data synthesis    \n",
       "4           0                well see television also   \n",
       "\n",
       "                          sentence2  \\\n",
       "0  slate opinion jacksons findings    \n",
       "1                    heterosexuals    \n",
       "2                     fun children    \n",
       "3          problems data synthesis    \n",
       "4             see television  well    \n",
       "\n",
       "                                    sentence1_embedd  \\\n",
       "0  [array([0., 0., 0., 0., 0., 0., 0., 0., 0., 0....   \n",
       "1  [array([0., 0., 0., 0., 0., 0., 0., 0., 0., 0....   \n",
       "2  [array([0., 0., 0., 0., 0., 0., 0., 0., 0., 0....   \n",
       "3  [array([0., 0., 0., 0., 0., 0., 0., 0., 0., 0....   \n",
       "4  [array([0., 0., 0., 0., 0., 0., 0., 0., 0., 0....   \n",
       "\n",
       "                                    sentence2_embedd  \n",
       "0  [array([0., 0., 0., 0., 0., 0., 0., 0., 0., 0....  \n",
       "1  [array([0., 0., 0., 0., 0., 0., 0., 0., 0., 0....  \n",
       "2  [array([0., 0., 0., 0., 0., 0., 0., 0., 0., 0....  \n",
       "3  [array([0., 0., 0., 0., 0., 0., 0., 0., 0., 0....  \n",
       "4  [array([0., 0., 0., 0., 0., 0., 0., 0., 0., 0....  "
      ]
     },
     "execution_count": 75,
     "metadata": {},
     "output_type": "execute_result"
    }
   ],
   "source": [
    "df.head()"
   ]
  },
  {
   "cell_type": "code",
   "execution_count": 78,
   "metadata": {},
   "outputs": [
    {
     "name": "stderr",
     "output_type": "stream",
     "text": [
      "/home/born-2-code/.local/lib/python2.7/site-packages/ipykernel_launcher.py:1: FutureWarning: Method .as_matrix will be removed in a future version. Use .values instead.\n",
      "  \"\"\"Entry point for launching an IPython kernel.\n",
      "/home/born-2-code/.local/lib/python2.7/site-packages/ipykernel_launcher.py:2: FutureWarning: Method .as_matrix will be removed in a future version. Use .values instead.\n",
      "  \n",
      "/home/born-2-code/.local/lib/python2.7/site-packages/ipykernel_launcher.py:3: FutureWarning: Method .as_matrix will be removed in a future version. Use .values instead.\n",
      "  This is separate from the ipykernel package so we can avoid doing imports until\n"
     ]
    }
   ],
   "source": [
    "output_labels = df['gold_label'].as_matrix()\n",
    "sentence1_embedd = df['sentence1_embedd'].as_matrix()\n",
    "sentence2_embedd = df['sentence2_embedd'].as_matrix()"
   ]
  },
  {
   "cell_type": "code",
   "execution_count": 79,
   "metadata": {},
   "outputs": [
    {
     "ename": "SyntaxError",
     "evalue": "invalid syntax (<ipython-input-79-82667ffdb0c2>, line 5)",
     "output_type": "error",
     "traceback": [
      "\u001b[0;36m  File \u001b[0;32m\"<ipython-input-79-82667ffdb0c2>\"\u001b[0;36m, line \u001b[0;32m5\u001b[0m\n\u001b[0;31m    yeild sentence1_embedd[index: index_end], sentence2_embedd[index: index_end], output_labels[index: index_end]\u001b[0m\n\u001b[0m                         ^\u001b[0m\n\u001b[0;31mSyntaxError\u001b[0m\u001b[0;31m:\u001b[0m invalid syntax\n"
     ]
    }
   ],
   "source": [
    "def getbatch(batch_size):\n",
    "    for i in range(len(output_labels)// batch_size):\n",
    "        index = i * batch_size\n",
    "        index_end = index + batch_size\n",
    "        yeild sentence1_embedd[index: index_end], sentence2_embedd[index: index_end], output_labels[index: index_end]"
   ]
  },
  {
   "cell_type": "code",
   "execution_count": null,
   "metadata": {},
   "outputs": [],
   "source": []
  },
  {
   "cell_type": "code",
   "execution_count": 58,
   "metadata": {},
   "outputs": [],
   "source": [
    "\"\"\"\n",
    "size of glove vector\n",
    "\"\"\"\n",
    "nn1_input = 15 * 50\n",
    "nn1_hidden1 = 500\n",
    "nn1_output = 100\n",
    "# nn1_output = 300\n",
    "\n",
    "nn2_input = nn1_output * 2\n",
    "nn2_hidden1 = 100\n",
    "# nn2_hidden1 = 50\n",
    "nn2_output = 3\n",
    "\n",
    "learning_rate = 0.001\n",
    "\n",
    "batch_size = 128\n",
    "num_steps = 1000\n",
    "\n",
    "\n",
    "sentence1 = tf.placeholder(tf.float32, shape=(None, nn1_input))\n",
    "sentence2 = tf.placeholder(tf.float32, shape=(None, nn1_input))\n",
    "\n",
    "output = tf.placeholder(tf.float32, shape=(None, nn2_output))"
   ]
  },
  {
   "cell_type": "code",
   "execution_count": 59,
   "metadata": {},
   "outputs": [],
   "source": [
    "nn1_weights = {\n",
    "    \"nn1_w1\" : tf.Variable(tf.random_normal([nn1_input, nn1_hidden1])),\n",
    "    \"nn1_w2\" : tf.Variable(tf.random_normal([nn1_hidden1, nn1_output])),\n",
    "    \n",
    "    \"nn2_w1\" : tf.Variable(tf.random_normal([nn2_input, nn2_hidden1])),\n",
    "    \"nn2_w2\" : tf.Variable(tf.random_normal([nn2_hidden1, nn2_output]))\n",
    "}\n",
    "\n",
    "nn1_biases = {\n",
    "    \"nn1_b1\" : tf.Variable(tf.random_normal([nn1_hidden1])),\n",
    "    \"nn1_b2\" : tf.Variable(tf.random_normal([nn1_output])),\n",
    "    \n",
    "    \"nn2_b1\" : tf.Variable(tf.random_normal([nn2_hidden1])),\n",
    "    \"nn2_b2\" : tf.Variable(tf.random_normal([nn2_output]))\n",
    "}"
   ]
  },
  {
   "cell_type": "code",
   "execution_count": 60,
   "metadata": {},
   "outputs": [],
   "source": [
    "def nn1_encode(x):\n",
    "    val = tf.nn.relu(tf.matmul(x, nn1_weights[\"nn1_w1\"]) + nn1_biases[\"nn1_b1\"])\n",
    "    return tf.nn.relu(tf.matmul(val, nn1_weights[\"nn1_w2\"]) + nn1_biases[\"nn1_b2\"])\n",
    "\n",
    "e1 = nn1_encode(sentence1)\n",
    "e2 = nn1_encode(sentence2)"
   ]
  },
  {
   "cell_type": "code",
   "execution_count": 61,
   "metadata": {},
   "outputs": [],
   "source": [
    "nn2_input = tf.concat([e1, e2], 1)\n",
    "## check diamentions"
   ]
  },
  {
   "cell_type": "code",
   "execution_count": 62,
   "metadata": {},
   "outputs": [],
   "source": [
    "def nn2_encode(x):\n",
    "    val = tf.nn.relu(tf.matmul(x, nn1_weights[\"nn2_w1\"]) + nn1_biases[\"nn2_b1\"])\n",
    "    return tf.nn.relu(tf.matmul(val, nn1_weights[\"nn2_w2\"]) + nn1_biases[\"nn2_b2\"])"
   ]
  },
  {
   "cell_type": "code",
   "execution_count": 63,
   "metadata": {},
   "outputs": [],
   "source": [
    "predictions = nn2_encode(nn2_input)"
   ]
  },
  {
   "cell_type": "code",
   "execution_count": 64,
   "metadata": {},
   "outputs": [],
   "source": [
    "# cost = tf.reduce_mean(tf.nn.softmax_cross_entropy_with_logits_v2(logits=predictions, labels=nn2_output))\n",
    "\n",
    "loss_op = tf.reduce_mean(tf.nn.softmax_cross_entropy_with_logits(\n",
    "    logits=predictions, labels=output))\n",
    "optimizer = tf.train.AdamOptimizer(learning_rate=learning_rate)\n",
    "train_op = optimizer.minimize(loss_op)"
   ]
  },
  {
   "cell_type": "code",
   "execution_count": 65,
   "metadata": {},
   "outputs": [],
   "source": [
    "# Evaluate model (with test logits, for dropout to be disabled)\n",
    "correct_pred = tf.equal(tf.argmax(predictions, 1), tf.argmax(output, 1))\n",
    "accuracy = tf.reduce_mean(tf.cast(correct_pred, tf.float32))\n",
    "\n",
    "# Initialize the variables (i.e. assign their default value)\n",
    "init = tf.global_variables_initializer()"
   ]
  },
  {
   "cell_type": "code",
   "execution_count": 68,
   "metadata": {},
   "outputs": [
    {
     "ename": "TypeError",
     "evalue": "'NoneType' object is not iterable",
     "output_type": "error",
     "traceback": [
      "\u001b[0;31m---------------------------------------------------------------------------\u001b[0m",
      "\u001b[0;31mTypeError\u001b[0m                                 Traceback (most recent call last)",
      "\u001b[0;32m<ipython-input-68-2b091701ab9b>\u001b[0m in \u001b[0;36m<module>\u001b[0;34m()\u001b[0m\n\u001b[1;32m      6\u001b[0m \u001b[0;34m\u001b[0m\u001b[0m\n\u001b[1;32m      7\u001b[0m     \u001b[0;32mfor\u001b[0m \u001b[0mstep\u001b[0m \u001b[0;32min\u001b[0m \u001b[0mrange\u001b[0m\u001b[0;34m(\u001b[0m\u001b[0;36m1\u001b[0m\u001b[0;34m,\u001b[0m \u001b[0mnum_steps\u001b[0m\u001b[0;34m+\u001b[0m\u001b[0;36m1\u001b[0m\u001b[0;34m)\u001b[0m\u001b[0;34m:\u001b[0m\u001b[0;34m\u001b[0m\u001b[0m\n\u001b[0;32m----> 8\u001b[0;31m         \u001b[0mbatch_sentence1\u001b[0m\u001b[0;34m,\u001b[0m \u001b[0mbatch_sentence2\u001b[0m\u001b[0;34m,\u001b[0m \u001b[0mbatch_y\u001b[0m \u001b[0;34m=\u001b[0m \u001b[0mgetbatch\u001b[0m\u001b[0;34m(\u001b[0m\u001b[0mbatch_size\u001b[0m\u001b[0;34m)\u001b[0m\u001b[0;34m\u001b[0m\u001b[0m\n\u001b[0m\u001b[1;32m      9\u001b[0m         \u001b[0;31m# Run optimization op (backprop)\u001b[0m\u001b[0;34m\u001b[0m\u001b[0;34m\u001b[0m\u001b[0m\n\u001b[1;32m     10\u001b[0m         \u001b[0msess\u001b[0m\u001b[0;34m.\u001b[0m\u001b[0mrun\u001b[0m\u001b[0;34m(\u001b[0m\u001b[0mtrain_op\u001b[0m\u001b[0;34m,\u001b[0m \u001b[0mfeed_dict\u001b[0m\u001b[0;34m=\u001b[0m\u001b[0;34m{\u001b[0m\u001b[0msentence1\u001b[0m\u001b[0;34m:\u001b[0m \u001b[0mbatch_sentence1\u001b[0m\u001b[0;34m,\u001b[0m\u001b[0msentence2\u001b[0m\u001b[0;34m:\u001b[0m \u001b[0mbatch_sentence2\u001b[0m\u001b[0;34m,\u001b[0m \u001b[0moutput\u001b[0m\u001b[0;34m:\u001b[0m \u001b[0mbatch_y\u001b[0m\u001b[0;34m}\u001b[0m\u001b[0;34m)\u001b[0m\u001b[0;34m\u001b[0m\u001b[0m\n",
      "\u001b[0;31mTypeError\u001b[0m: 'NoneType' object is not iterable"
     ]
    }
   ],
   "source": [
    "# Start training\n",
    "with tf.Session() as sess:\n",
    "\n",
    "    # Run the initializer\n",
    "    sess.run(init)\n",
    "\n",
    "    for step in range(1, num_steps+1):\n",
    "        batch_sentence1, batch_sentence2, batch_y = getbatch(batch_size)\n",
    "        # Run optimization op (backprop)\n",
    "        sess.run(train_op, feed_dict={sentence1: batch_sentence1,sentence2: batch_sentence2, output: batch_y})\n",
    "        if step % display_step == 0 or step == 1:\n",
    "            # Calculate batch loss and accuracy\n",
    "            loss, acc = sess.run([loss_op, accuracy], feed_dict={sentence1: batch_sentence1,sentence2: batch_sentence2, output: batch_y})\n",
    "            print(\"Step \" + str(step) + \", Step Loss= \" + \\\n",
    "                  \"{:.4f}\".format(loss) + \", Training Accuracy= \" + \\\n",
    "                  \"{:.3f}\".format(acc))\n",
    "\n",
    "    print(\"Optimization Finished!\")\n",
    "\n",
    "    # Calculate accuracy for MNIST test images\n",
    "    print(\"Testing Accuracy:\", \\\n",
    "        sess.run(accuracy, feed_dict={sentence1: test_sentence1,sentence2: test_sentence2, output: test_y}))"
   ]
  },
  {
   "cell_type": "code",
   "execution_count": null,
   "metadata": {},
   "outputs": [],
   "source": []
  }
 ],
 "metadata": {
  "kernelspec": {
   "display_name": "Python 3",
   "language": "python",
   "name": "python3"
  },
  "language_info": {
   "codemirror_mode": {
    "name": "ipython",
    "version": 2
   },
   "file_extension": ".py",
   "mimetype": "text/x-python",
   "name": "python",
   "nbconvert_exporter": "python",
   "pygments_lexer": "ipython2",
   "version": "2.7.15rc1"
  }
 },
 "nbformat": 4,
 "nbformat_minor": 2
}
