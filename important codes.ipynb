{
 "cells": [
  {
   "cell_type": "code",
   "execution_count": 1,
   "metadata": {},
   "outputs": [],
   "source": [
    "import collections\n",
    "import bisect"
   ]
  },
  {
   "cell_type": "markdown",
   "metadata": {},
   "source": [
    "## sliding window max"
   ]
  },
  {
   "cell_type": "code",
   "execution_count": 2,
   "metadata": {},
   "outputs": [],
   "source": [
    "\"\"\"\n",
    "Simple solution O(kn) best case and O(n**2) worst case\n",
    "\"\"\"\n",
    "\n",
    "def maxSlidingWindow(a,k):\n",
    "    res = []\n",
    "    for i in range(len(a)):\n",
    "        if i + k <= len(a):\n",
    "            res.append(max(a[i:i + k]))\n",
    "    return res\n",
    "\n",
    "\n",
    "\"\"\"\n",
    "    O(n) solution\n",
    "\"\"\"\n",
    "\n",
    "def maxSlidingWindow(nums, k):\n",
    "    d = collections.deque()\n",
    "    out = []\n",
    "    for i, n in enumerate(nums):\n",
    "        \n",
    "        \"\"\"\n",
    "        The below statement insures that d[0] will always be maximum\n",
    "        \"\"\"\n",
    "        while d and nums[d[-1]] < n:\n",
    "            d.pop()\n",
    "        d += i,\n",
    "        \n",
    "        \"\"\"\n",
    "        with above statement d may have values less than d[0] in the array\n",
    "        Below statements remove d[0] value if max length required is reached.\n",
    "        \"\"\"\n",
    "        if d[0] == i - k:\n",
    "            d.popleft()\n",
    "            \n",
    "        \"\"\"\n",
    "        For each iteration d[0] will be maximum value.\n",
    "        Here we add those values to the output list \n",
    "        if the index is greadter or equal to k-1 \n",
    "        i.e. we igone first k-1 iterations.\n",
    "        \"\"\"\n",
    "        if i >= k - 1:\n",
    "            out += nums[d[0]],\n",
    "    return out"
   ]
  },
  {
   "cell_type": "code",
   "execution_count": 3,
   "metadata": {},
   "outputs": [
    {
     "data": {
      "text/plain": [
       "[3, 4, 5]"
      ]
     },
     "execution_count": 3,
     "metadata": {},
     "output_type": "execute_result"
    }
   ],
   "source": [
    "maxSlidingWindow([1,3,2,4,5], 3)"
   ]
  },
  {
   "cell_type": "markdown",
   "metadata": {},
   "source": [
    "## sliding window median"
   ]
  },
  {
   "cell_type": "code",
   "execution_count": 4,
   "metadata": {},
   "outputs": [
    {
     "data": {
      "text/plain": [
       "'\\ncheck two heap solution as well.\\n'"
      ]
     },
     "execution_count": 4,
     "metadata": {},
     "output_type": "execute_result"
    }
   ],
   "source": [
    "\"\"\"\n",
    "The below is O(nlogk) solution which also can be used for sliding window max prolblem\n",
    "\n",
    "The time complexity of bisect.biscet and biscet.insort is O(log K) we do this for n times \n",
    "so total time complexity is O(N log K)\n",
    "\n",
    "\"\"\"\n",
    "\n",
    "def medianSlidingWindow(nums, k):\n",
    "    \"\"\"\n",
    "    First we get the first window and sort it\n",
    "    \"\"\"\n",
    "    win, rv = nums[:k], []\n",
    "    win.sort()\n",
    "    \n",
    "    \"\"\"\n",
    "    the below step will be useful for median calculation\n",
    "    \"\"\"\n",
    "    odd = k%2\n",
    "    \n",
    "    for i,n in enumerate(nums[k:],k):\n",
    "        \n",
    "        \"\"\"\n",
    "        depending upon the even odd we apply median calculation to our window and append it to result\n",
    "        \"\"\"\n",
    "        rv.append((win[k/2]+win[k/2-1])/2. if not odd else win[(k-1)/2]*1.)\n",
    "        \n",
    "        \"\"\"\n",
    "        we pop the element which will go out of window\n",
    "        we can get that element using indices in nums, \n",
    "        next we determine index of that element in window and pop it.\n",
    "        \"\"\"\n",
    "        win.pop(bisect.bisect(win, nums[i-k])-1) # <<< bisect is faster than .remove()\n",
    "        \n",
    "        \"\"\"\n",
    "        we insert the new element and keep the window sorted.\n",
    "        \"\"\"\n",
    "        bisect.insort(win, n)\n",
    "    rv.append((win[k/2]+win[k/2-1])/2. if not odd else win[(k-1)/2]*1.)\n",
    "    return rv\n",
    "\n",
    "\"\"\"\n",
    "check two heap solution as well.\n",
    "\"\"\""
   ]
  },
  {
   "cell_type": "code",
   "execution_count": 5,
   "metadata": {},
   "outputs": [
    {
     "data": {
      "text/plain": [
       "[1.0, -1.0, -1.0, 3.0, 5.0, 6.0]"
      ]
     },
     "execution_count": 5,
     "metadata": {},
     "output_type": "execute_result"
    }
   ],
   "source": [
    "medianSlidingWindow([1,3,-1,-3,5,3,6,7], 3)"
   ]
  },
  {
   "cell_type": "markdown",
   "metadata": {},
   "source": [
    "## find median of data stream"
   ]
  },
  {
   "cell_type": "code",
   "execution_count": 6,
   "metadata": {},
   "outputs": [],
   "source": [
    "\"\"\"\n",
    "The idea is to have a min heap and a max heap\n",
    "by default heapq data structure in python is min heap\n",
    "to have a max heap data structure we can add -ve of number to the heap \n",
    "and with pop operation we can again do -ve\n",
    "\"\"\"\n",
    "\n",
    "class MedianFinder:\n",
    "    def __init__(self):\n",
    "        self.small = []\n",
    "        self.large = []\n",
    "\n",
    "    def addNum(self, num):\n",
    "        if len(self.small) == len(self.large):\n",
    "            heappush(self.large, -heappushpop(self.small, -num))\n",
    "        else:\n",
    "            heappush(self.small, -heappushpop(self.large, num))\n",
    "\n",
    "    def findMedian(self):\n",
    "        if len(self.small) == len(self.large):\n",
    "            return float(self.large[0] - self.small[0]) / 2.0\n",
    "        else:\n",
    "            return float(self.large[0])\n",
    "        \n",
    "        \n",
    "\"\"\"\n",
    "solution using bisect\n",
    "\"\"\"\n",
    "\n",
    "class MedianFinder:\n",
    "    def __init__(self):\n",
    "        self.array = []\n",
    "        self.count = 0\n",
    "\n",
    "    def addNum(self, num):\n",
    "        bisect.insort(self.array, num)\n",
    "        self.count += 1\n",
    "\n",
    "    def findMedian(self):\n",
    "        if self.count == 0:\n",
    "            return 0\n",
    "        elif self.count % 2 != 0:\n",
    "            return self.array[self.count//2] * 1.0\n",
    "        else:\n",
    "            return (self.array[self.count//2] + self.array[self.count//2 -1]) / 2.0"
   ]
  },
  {
   "cell_type": "markdown",
   "metadata": {},
   "source": [
    "## Paliandrome pairs"
   ]
  },
  {
   "cell_type": "code",
   "execution_count": 7,
   "metadata": {},
   "outputs": [],
   "source": [
    "\"\"\"\n",
    "Naive solution is to compare every word with every other word\n",
    "Time complexity o(n**2)\n",
    "\"\"\"\n",
    "\n",
    "def palindromePairs(words):\n",
    "    \"\"\"\n",
    "    :type words: List[str]\n",
    "    :rtype: List[List[int]]\n",
    "    \"\"\"\n",
    "    words_rev = [word[::-1] for word in words]\n",
    "\n",
    "    ans = []\n",
    "    for index1 in range(len(words)):\n",
    "        for index2 in range(len(words)):\n",
    "            if index1 == index2:\n",
    "                continue\n",
    "            word_1 = words[index1]\n",
    "            word_2 = words[index2]\n",
    "\n",
    "            word_1_rev = words_rev[index2]\n",
    "            word_2_rev = words_rev[index1]\n",
    "            if word_1 + word_2 == word_1_rev + word_2_rev:\n",
    "                ans.append((index1, index2))\n",
    "    return ans\n",
    "\n",
    "\n",
    "\"\"\"\n",
    "Best solution is to do comparisions efficiently.\n",
    "We will generate a data structure such that \n",
    "\n",
    "    dictionary:\n",
    "    its keys is length of the squence \n",
    "    its value is dictionary of word and its index\n",
    "\n",
    "\n",
    "    Step 1: To check if the reverse of the string is present or not\n",
    "        for that we will iterate through the dictionary keys \n",
    "        and for each word in dictionary[key] we will check if reverse of the word is present in the dictionary or not\n",
    "        due to dictionary we can search in constant time\n",
    "        \n",
    "    Step 2: To check if part of strings is present in the data structure and if present it creates a paliandrome.\n",
    "        We will iterate through all the keys in the dictionary \n",
    "        for each key we check if start substring or end-substring with length less than key is present in dictionary or not.\n",
    "    \n",
    "\"\"\"\n",
    "\n",
    "\"\"\"\n",
    "Input : [\"abcd\",\"dcba\",\"lls\",\"s\",\"sssll\"]\n",
    "\n",
    "dictionary data structure: {1: {'s': 3}, 3: {'lls': 2}, 4: {'dcba': 1, 'abcd': 0}, 5: {'sssll': 4}}\n",
    "\n",
    "\n",
    "\"\"\"\n",
    "\n",
    "def palindromePairs(words):\n",
    "        \"\"\"\n",
    "        :type words: List[str]\n",
    "        :rtype: List[List[int]]\n",
    "        \"\"\"\n",
    "        \n",
    "        dic={}\n",
    "        for i,wd in enumerate(words):\n",
    "            if len(wd) in dic:\n",
    "                dic[len(wd)][wd]=i\n",
    "            else:\n",
    "                dic[len(wd)]={wd:i}\n",
    "        ans=[]\n",
    "        # same length\n",
    "        for k in dic:\n",
    "            for wd in dic[k]:\n",
    "                if wd[::-1] in dic[k]:\n",
    "                    i=dic[k][wd]\n",
    "                    j=dic[k][wd[::-1]]\n",
    "                    if i!=j:\n",
    "                        ans.append([i,j])\n",
    "        # diff length\n",
    "        for k in dic:\n",
    "            for l in range(k):\n",
    "                if l in dic:\n",
    "                    for wd in dic[k]:\n",
    "                        left=wd[:-(l+1):-1]\n",
    "                        right=wd[:l][::-1]\n",
    "                        if left in dic[l]:\n",
    "                            leftwd=left+wd\n",
    "                            if leftwd==leftwd[::-1]:\n",
    "                                ans.append([dic[l][left],dic[k][wd]])\n",
    "                        if right in dic[l]:\n",
    "                            rightwd=wd+right\n",
    "                            if rightwd==rightwd[::-1]:\n",
    "                                ans.append([dic[k][wd],dic[l][right]])\n",
    "        return ans"
   ]
  },
  {
   "cell_type": "code",
   "execution_count": 8,
   "metadata": {},
   "outputs": [
    {
     "data": {
      "text/plain": [
       "[[0, 1], [1, 0], [3, 2], [2, 4]]"
      ]
     },
     "execution_count": 8,
     "metadata": {},
     "output_type": "execute_result"
    }
   ],
   "source": [
    "palindromePairs([\"abcd\",\"dcba\",\"lls\",\"s\",\"sssll\"])"
   ]
  },
  {
   "cell_type": "markdown",
   "metadata": {},
   "source": [
    "## merge k sorted lists"
   ]
  },
  {
   "cell_type": "code",
   "execution_count": 9,
   "metadata": {},
   "outputs": [],
   "source": [
    "\"\"\"\n",
    "using priority queue\n",
    "\n",
    "put take log k time \n",
    "\n",
    "overall time O(n log k)\n",
    "\"\"\"\n",
    "\n",
    "from Queue import PriorityQueue\n",
    "def mergeKLists(lists):\n",
    "    q = PriorityQueue()\n",
    "    for ll in lists:\n",
    "        if ll:\n",
    "            q.put((ll.val, ll))\n",
    "    head = ListNode(0)\n",
    "    dummy = head\n",
    "    while not q.empty():\n",
    "        value, node = q.get()\n",
    "        head.next = ListNode(value)\n",
    "        head = head.next\n",
    "        if node:\n",
    "            q.put((node.val, node))\n",
    "    return dummy.next\n",
    "\n",
    "\n",
    "\"\"\"\n",
    "another solution is directly combining lists and using sort\n",
    "\n",
    "sorting takes O(n log n) time \n",
    "\n",
    "total time complexity O(n log n)\n",
    "\"\"\"\n",
    "def mergeKLists(lists):\n",
    "    arr = []\n",
    "    nodes = []\n",
    "    for ll in lists:\n",
    "        while ll:\n",
    "            arr.append(ll.val)\n",
    "            nodes.append(ll)\n",
    "            ll = ll.next\n",
    "    arr.sort()\n",
    "    length = len(arr)\n",
    "    i = 0\n",
    "    for elem in arr:\n",
    "        nodes[i].val = elem\n",
    "        if i+1 < length:\n",
    "            nodes[i].next = nodes[i+1]\n",
    "        else:\n",
    "            nodes[i].next = None\n",
    "        i += 1\n",
    "    if len(nodes)>0:\n",
    "        return nodes[0]\n",
    "\n",
    "    return None"
   ]
  },
  {
   "cell_type": "markdown",
   "metadata": {},
   "source": [
    "## min cost to Paint House : 3 cost array"
   ]
  },
  {
   "cell_type": "code",
   "execution_count": 10,
   "metadata": {},
   "outputs": [],
   "source": [
    "\"\"\"\n",
    "The operations must be done inline or using temp variable\n",
    "\n",
    "RunTime : O(n)\n",
    "\"\"\"\n",
    "def minCost(self, costs):\n",
    "        cost_red, cost_blue, cost_green = 0,0,0\n",
    "        for red, blue, green in costs:\n",
    "            cost_red, cost_blue, cost_green = red + min(cost_blue, cost_green), blue + min(cost_red, cost_green), green + min(cost_red, cost_blue)\n",
    "        return min(cost_red, cost_blue, cost_green)\n"
   ]
  },
  {
   "cell_type": "markdown",
   "metadata": {},
   "source": [
    "## min cost to Paint House : cost array length undefined"
   ]
  },
  {
   "cell_type": "code",
   "execution_count": 11,
   "metadata": {},
   "outputs": [],
   "source": [
    "\"\"\"\n",
    "Here we modify the array in place\n",
    "if that is not permitted we can assign O(n) extra space and perform the operations\n",
    "\n",
    "We calculate two minimums from previous iteration \n",
    "we add min1 to current iteration value if its index is not equal to min1 index else we add min2 \n",
    "\"\"\"\n",
    "\n",
    "\n",
    "def minCostII(costs):\n",
    "    \n",
    "    if not costs:\n",
    "        return 0\n",
    "    \n",
    "    num_costs = len(costs)\n",
    "    len_costs = len(costs[0])\n",
    "    \n",
    "    for i in range(1, num_costs):\n",
    "        min1 = min(costs[i-1])\n",
    "        index = costs[i-1].index(min1)\n",
    "        min2 = min(costs[i][:index] + costs[i][index+1:])\n",
    "        \n",
    "        for j in range(len_costs):\n",
    "            if j == index:\n",
    "                costs[i][j] += min2\n",
    "            else:\n",
    "                costs[i][j] += min1\n",
    "                \n",
    "    return min(costs[-1])"
   ]
  },
  {
   "cell_type": "markdown",
   "metadata": {},
   "source": [
    "## Burst Balloons"
   ]
  },
  {
   "cell_type": "code",
   "execution_count": 12,
   "metadata": {},
   "outputs": [],
   "source": [
    "\"\"\"\n",
    "Solution with memo\n",
    "\"\"\"\n",
    "\n",
    "class Solution:\n",
    "    def maxCoins(self, nums):\n",
    "        memo, nums = {}, [1] + [num for num in nums if num] + [1]\n",
    "        print(nums)\n",
    "        def dfs(l, r):\n",
    "            if r - l == 1: return 0\n",
    "            if (l, r) not in memo: memo[(l, r)] = max(nums[l] * nums[i] * nums[r] + dfs(l, i) + dfs(i, r) for i in range(l + 1, r))\n",
    "            print(memo)\n",
    "            return memo[(l, r)]\n",
    "        return dfs(0, len(nums) - 1)\n",
    "    \n",
    "    \n",
    "\"\"\"\n",
    "Solution with dp\n",
    "RunTime = O(n ** 2)\n",
    "\"\"\"\n",
    "\n",
    "class Solution:\n",
    "    def maxCoins(self, nums):\n",
    "        nums = [1] + nums + [1]\n",
    "        n = len(nums)\n",
    "        dp = [[0]*n for _ in range(n)]\n",
    "        for gap in range(2,n):\n",
    "            for i in range(n-gap):\n",
    "                j = i + gap\n",
    "                product = nums[i] * nums[j]\n",
    "                dp[i][j] = max(product * nums[k] + dp[i][k] + dp[k][j] for k in range(i+1,j))\n",
    "        return dp[0][n-1]     \n"
   ]
  },
  {
   "cell_type": "markdown",
   "metadata": {},
   "source": [
    "## K empty slots"
   ]
  },
  {
   "cell_type": "code",
   "execution_count": 13,
   "metadata": {},
   "outputs": [],
   "source": [
    "def kEmptySlots(flowers, k):\n",
    "    blomming = []\n",
    "    for day, position in enumerate(flowers, 1):\n",
    "        index = bisect.bisect(blomming, position)\n",
    "        for i in range(index - index>0, index +1):\n",
    "            if abs(position - i) -1 == k:\n",
    "                return day\n",
    "        bisect.insort(blomming, position)\n",
    "    return -1"
   ]
  },
  {
   "cell_type": "code",
   "execution_count": null,
   "metadata": {},
   "outputs": [],
   "source": []
  },
  {
   "cell_type": "code",
   "execution_count": null,
   "metadata": {},
   "outputs": [],
   "source": []
  },
  {
   "cell_type": "markdown",
   "metadata": {},
   "source": [
    "## Couple holding hands"
   ]
  },
  {
   "cell_type": "code",
   "execution_count": 14,
   "metadata": {},
   "outputs": [],
   "source": [
    "\"\"\"\n",
    "Greedy solution iterate through the array 2 by 2 elements\n",
    "\"\"\"\n",
    "\n",
    "class Solution(object):\n",
    "    def minSwapsCouples(self, row):\n",
    "        ans = 0\n",
    "        for i in xrange(0, len(row), 2):\n",
    "            x = row[i]\n",
    "            if row[i+1] == x^1: continue\n",
    "            ans += 1\n",
    "            for j in xrange(i+1, len(row)):\n",
    "                if row[j] == x^1:\n",
    "                    row[i+1], row[j] = row[j], row[i+1]\n",
    "                    break\n",
    "        return ans"
   ]
  },
  {
   "cell_type": "code",
   "execution_count": null,
   "metadata": {},
   "outputs": [],
   "source": []
  },
  {
   "cell_type": "code",
   "execution_count": null,
   "metadata": {},
   "outputs": [],
   "source": []
  },
  {
   "cell_type": "markdown",
   "metadata": {},
   "source": [
    "## additive num"
   ]
  },
  {
   "cell_type": "code",
   "execution_count": 15,
   "metadata": {},
   "outputs": [],
   "source": [
    "\"\"\"\n",
    "\n",
    "Input: \"112358\"\n",
    "Output: true \n",
    "Explanation: The digits can form an additive sequence: 1, 1, 2, 3, 5, 8. \n",
    "             1 + 1 = 2, 1 + 2 = 3, 2 + 3 = 5, 3 + 5 = 8\n",
    "             \n",
    "\"\"\"\n",
    "\n",
    "def isAdditiveNum(n):\n",
    "    n = len(nums)\n",
    "    \"\"\"\n",
    "    iterate such that \n",
    "    \n",
    "    for i in range(1,n):\n",
    "        for j in range(i+1,n):\n",
    "\n",
    "    \"\"\"\n",
    "    for i, j in itertools.combinations(range(1,n), 2):\n",
    "        a, b = nums[:i], nums[i:j]\n",
    "        \n",
    "        \"\"\"\n",
    "        to check whether the number starts with zeros\n",
    "        \"\"\"\n",
    "        if b != str(int(b)):\n",
    "            continue\n",
    "        while j < n:\n",
    "            \"\"\"\n",
    "            we iteratively compute whether the next number is present in nums at location j\n",
    "            if present we continue the loop for next numbers\n",
    "            \"\"\"\n",
    "            \n",
    "            c = str(int(a) + int(b))\n",
    "            if not nums.startswith(c, j):\n",
    "                break\n",
    "            j += len(c)\n",
    "            a, b = b, c\n",
    "        if j == n:\n",
    "            return True\n",
    "    return False"
   ]
  },
  {
   "cell_type": "markdown",
   "metadata": {},
   "source": [
    "## ones and zeros"
   ]
  },
  {
   "cell_type": "code",
   "execution_count": 16,
   "metadata": {},
   "outputs": [
    {
     "data": {
      "text/plain": [
       "'\\nDP solution : Knapsack O(length * m * n) time, O(mn) space\\n'"
      ]
     },
     "execution_count": 16,
     "metadata": {},
     "output_type": "execute_result"
    }
   ],
   "source": [
    "\"\"\"\n",
    "Input: Array = {\"10\", \"0001\", \"111001\", \"1\", \"0\"}, m = 5, n = 3\n",
    "Output: 4\n",
    "\"\"\"\n",
    "\n",
    "\"\"\"\n",
    "create a array with count of zeros and ones for each item in the list\n",
    "\n",
    "Here we want to find maximum number of items we can select from list such that sum of zero < 5 and sum one < 3\n",
    "\n",
    "so, we can use greedy approach here \n",
    "    sort the numbers with number of zeros\n",
    "    start from index pick elements such that num zero/ one are less than the required count\n",
    "\n",
    "\"\"\"\n",
    "\n",
    "\n",
    "def findMaxForm(self, strs, m, n):\n",
    "    def count(s):\n",
    "        ones=zeros=0\n",
    "        for x in s:\n",
    "            if x=='0':\n",
    "                zeros+=1\n",
    "            else:\n",
    "                ones+=1\n",
    "        return zeros, ones\n",
    "\n",
    "    ans=0\n",
    "    L=len(strs)\n",
    "    matrix=[count(s) for s in strs]\n",
    "    matrix.sort(key= lambda x: x[1])\n",
    "    for i in range(L):\n",
    "        zeros, ones = matrix[i]\n",
    "        if ones > n or zeros>m:\n",
    "            continue\n",
    "        cur=1\n",
    "        for j in range(i+1,L):\n",
    "            z,o=matrix[j]\n",
    "            if ones+o<= n and zeros+z<=m:\n",
    "                ones+=o\n",
    "                zeros+=z\n",
    "                cur+=1\n",
    "        ans=max(ans,cur)\n",
    "\n",
    "    return ans\n",
    "\n",
    "\"\"\"\n",
    "DP solution : Knapsack O(length * m * n) time, O(mn) space\n",
    "\"\"\"\n",
    "\n"
   ]
  },
  {
   "cell_type": "markdown",
   "metadata": {},
   "source": [
    "## median of two sorted arrays"
   ]
  },
  {
   "cell_type": "code",
   "execution_count": 17,
   "metadata": {},
   "outputs": [],
   "source": [
    "def findMedianOfTwoSorted(nums1, nums2):\n",
    "    l1 = len(nums1)\n",
    "    l2 = len(nums2)\n",
    "    total = l1 + l2\n",
    "    if total % 2 :\n",
    "        return (findKthSmallest(nums1, nums2, total//2) + findKthSmallest(nums1, nums2, total//2 + 1)) / 2.0\n",
    "    else:\n",
    "        return findKthSmallest(nums1, nums2, total//2)\n",
    "\n",
    "def findKthSmallest(nums1, nums2, k):\n",
    "    if len(nums1) > len (nums2):\n",
    "        findMedianOfTwoSorted(nums2, nums1)\n",
    "    if not nums1:\n",
    "        return nums2[k:k+1]\n",
    "    if k == 0:\n",
    "        return min(nums1[0], nums2[0])\n",
    "    \n",
    "    \n",
    "    ## reduce step\n",
    "    indexa = min(k//2, len(nums1))\n",
    "    indexb = len(nums2) - indexa\n",
    "    \n",
    "    ## reduce a if\n",
    "    if nums1[indexa] <= nums2[indexb]:\n",
    "        findKthSmallest(nums1[indexa:], nums2, k - indexa)\n",
    "    else:\n",
    "        findKthSmallest(nums1, nums2[indexb:], k - indexb)\n",
    "            "
   ]
  },
  {
   "cell_type": "markdown",
   "metadata": {},
   "source": [
    "## Construct a tree from a strng with parenthesis"
   ]
  },
  {
   "cell_type": "code",
   "execution_count": 18,
   "metadata": {},
   "outputs": [],
   "source": [
    "\"\"\"\n",
    "Input: \"4(2(3)(1))(6(5))\"\n",
    "Output: return the tree root node representing the following tree:\n",
    "\"\"\"\n",
    "\n",
    "\n",
    "\"\"\"\n",
    "Questions to ask:\n",
    "    1. is the tree balanced/ binary ?\n",
    "    2. does the string contains -ve numbers\n",
    "    3. can i assume that i am getting perfect input, with matched parenthesis\n",
    "\"\"\"\n",
    "\n",
    "\n",
    "def str2tree(self, s):\n",
    "    \"\"\"\n",
    "        The idea is to find left subtree parenthesis and right subtree parenthesis and process them recursively\n",
    "        Time conplexity: roughtly O(n**2) as for each node we try to find middle index.\n",
    "    \"\"\"\n",
    "    def findIndex(s, start, end):\n",
    "        stack = []\n",
    "        index = -1\n",
    "        for ch in s[start:end]:\n",
    "            index += 1\n",
    "            if ch == '(':\n",
    "                stack.append(ch)\n",
    "            elif ch == ')':\n",
    "                if stack[-1] == '(':\n",
    "                    stack.pop()\n",
    "                if not stack:\n",
    "                    return start + index\n",
    "        return None\n",
    "\n",
    "    def st2t(s, start, end):\n",
    "        if start > end:\n",
    "            return None\n",
    "        negative = 0\n",
    "        if s[start] == \"-\":\n",
    "            negative = 1\n",
    "        root = TreeNode(s[start:start+1+negative]) \n",
    "        index = findIndex(s, start+1+negative, end)\n",
    "        if index:\n",
    "            root.left = st2t(s, start+2 + negative, index)\n",
    "            root.right = st2t(s, index+2, end-1)\n",
    "        return root\n",
    "    if not s: return None\n",
    "    return st2t(s, 0, len(s))\n",
    "\n",
    "## solution 2\n",
    "\n",
    "def str2tree(self, s):\n",
    "        \"\"\"\n",
    "       The idea is to construct the tree while traversing the string\n",
    "       RunTime : O(n)\n",
    "           memory : O(n)\n",
    "       \n",
    "       \n",
    "       push pop oprations for the node and parenthesis are done simulteniously.\n",
    "        \"\"\"\n",
    "        if s == '':\n",
    "            return None\n",
    "        stack = []\n",
    "        num = ''\n",
    "\n",
    "        for c in s:\n",
    "            if c.isdigit() or c == '-':\n",
    "                num += c\n",
    "            elif num:\n",
    "                node = TreeNode(int(num))\n",
    "                if not stack:\n",
    "                    root = node\n",
    "                elif num:\n",
    "                    if not stack[-1].left:\n",
    "                        stack[-1].left = node\n",
    "                    else:\n",
    "                        stack[-1].right = node\n",
    "                if c == '(':\n",
    "                    stack.append(node)\n",
    "                num = ''\n",
    "            elif c == ')':\n",
    "                stack.pop()\n",
    "        return root if num == '' else TreeNode(int(num))"
   ]
  },
  {
   "cell_type": "markdown",
   "metadata": {},
   "source": [
    "## kadane's algorithm"
   ]
  },
  {
   "cell_type": "code",
   "execution_count": 19,
   "metadata": {},
   "outputs": [],
   "source": [
    "#Kadane's algorithm\n",
    "def kadane(A):\n",
    "    ans = cur = None\n",
    "    for x in A:\n",
    "        cur = x + max(cur, 0)\n",
    "        ans = max(ans, cur)\n",
    "    return ans"
   ]
  },
  {
   "cell_type": "markdown",
   "metadata": {},
   "source": [
    "## kadane for circular array"
   ]
  },
  {
   "cell_type": "code",
   "execution_count": 20,
   "metadata": {},
   "outputs": [],
   "source": [
    "def maxSubarraySumCircular(self, A):\n",
    "        # ans1: answer for one-interval subarray\n",
    "        ans1 = cur = None\n",
    "        for x in A:\n",
    "            cur = x + max(cur, 0)\n",
    "            ans1 = max(ans1, cur)\n",
    "\n",
    "        # ans2: answer for two-interval subarray, interior in A[1:]\n",
    "        ans2 = cur = float('inf')\n",
    "        for i in xrange(1, len(A)):\n",
    "            cur = A[i] + min(cur, 0)\n",
    "            ans2 = min(ans2, cur)\n",
    "        ans2 = sum(A) - ans2\n",
    "\n",
    "        # ans3: answer for two-interval subarray, interior in A[:-1]\n",
    "        ans3 = cur = float('inf')\n",
    "        for i in xrange(len(A)-1):\n",
    "            cur = A[i] + min(cur, 0)\n",
    "            ans3 = min(ans3, cur)\n",
    "        ans3 = sum(A) - ans3\n",
    "\n",
    "        return max(ans1, ans2, ans3)"
   ]
  },
  {
   "cell_type": "markdown",
   "metadata": {},
   "source": [
    "## Partition to K Equal Sum Subsets"
   ]
  },
  {
   "cell_type": "code",
   "execution_count": 21,
   "metadata": {},
   "outputs": [
    {
     "data": {
      "text/plain": [
       "False"
      ]
     },
     "execution_count": 21,
     "metadata": {},
     "output_type": "execute_result"
    }
   ],
   "source": [
    "\"\"\"correct mistakes in solution\"\"\"\n",
    "\n",
    "def partition_k_subsets(array, parts):\n",
    "    length = len(array)\n",
    "    visited = [0] * length\n",
    "    if parts <= 1: return True\n",
    "    \n",
    "    div, mod = divmod(sum(array), parts)\n",
    "    if mod: return False\n",
    "    array.sort(reverse=True)\n",
    "    count = 0\n",
    "    \n",
    "    def dfs(start,s, k):\n",
    "        if s == div:\n",
    "            dfs(0,0, k-1)\n",
    "        elif k == 1:\n",
    "            return True\n",
    "        for index in range(start, length):\n",
    "            if not visited[index] and  s+array[index] <= div:\n",
    "                visited[index] = True\n",
    "                if dfs(index+1, s+array[index], k):\n",
    "                    return True\n",
    "                visited[index] = False\n",
    "        return False\n",
    "    return dfs(0, 0, parts)\n",
    "\n",
    "partition_k_subsets([1,2,3],2)"
   ]
  },
  {
   "cell_type": "markdown",
   "metadata": {},
   "source": [
    "## max profit"
   ]
  },
  {
   "cell_type": "markdown",
   "metadata": {},
   "source": [
    "    keep min_profit while iterating array and calculate max profit at each step"
   ]
  },
  {
   "cell_type": "markdown",
   "metadata": {},
   "source": [
    "## Search in rotated sorted array"
   ]
  },
  {
   "cell_type": "code",
   "execution_count": 22,
   "metadata": {},
   "outputs": [],
   "source": [
    "def searchRotated(nums, ele):\n",
    "    if not nums:\n",
    "        return -1\n",
    "    \n",
    "    def binarySearch(start, end):\n",
    "        if start > end:\n",
    "            return -1\n",
    "        mid = (start + end) // 2\n",
    "        if nums[mid] == ele:\n",
    "            return mid\n",
    "        elif nums[start] <= target <= nums[mid]:\n",
    "            return binarySearch(start, mid-1)\n",
    "        elif nums[mid] <= target <= nums[end]:\n",
    "            return binarySearch(mid+1, end)\n",
    "        elif nums[mid] > nums[end]:\n",
    "            return binarySearch(mid+1, end)\n",
    "        elif nums[start] > nums[mid]:\n",
    "            return binarySearch(start, mid-1)\n",
    "        \n",
    "    return binarySearch(0, len(nums)-1)\n",
    "\n",
    "\n",
    "\n",
    "\"\"\"\n",
    "If the array has duplicate we will remove them at start of each iteration\n",
    "\"\"\"\n",
    "\n",
    "def search(self, nums, target):\n",
    "    if not nums:\n",
    "        return False\n",
    "\n",
    "    def binarySearch(start, end):\n",
    "        if start > end:\n",
    "            return False\n",
    "        while start < end and nums[start] == nums[start+1]:\n",
    "            start += 1\n",
    "        while end > start and nums[end] == nums[end-1]:\n",
    "            end -= 1\n",
    "        mid = (start + end) // 2\n",
    "        if nums[mid] == target:\n",
    "            return True\n",
    "        elif nums[start] <= target <= nums[mid]:\n",
    "            return binarySearch(start, mid-1)\n",
    "        elif nums[mid] <= target <= nums[end]:\n",
    "            return binarySearch(mid+1, end)\n",
    "        elif nums[mid] > nums[end]:\n",
    "            return binarySearch(mid+1, end)\n",
    "        elif nums[start] > nums[mid]:\n",
    "            return binarySearch(start, mid-1)\n",
    "        return False\n",
    "\n",
    "    return binarySearch(0, len(nums)-1)"
   ]
  },
  {
   "cell_type": "markdown",
   "metadata": {},
   "source": [
    "## minimum in rotated array\n",
    "    as array is rotated minimum must be in rotated part"
   ]
  },
  {
   "cell_type": "code",
   "execution_count": 23,
   "metadata": {},
   "outputs": [],
   "source": [
    "\"\"\"\n",
    "if the array is sorted we will reduce array from start and end\n",
    "\"\"\"\n",
    "\n",
    "def findMin(self, nums):\n",
    "    start = 0\n",
    "    end = len(nums) - 1\n",
    "    while start < end - 1:\n",
    "        while start < end -1 and nums[start] == nums[start + 1]:\n",
    "            start += 1\n",
    "        while start < end -1 and nums[end] == nums[end - 1]:\n",
    "            end -= 1\n",
    "        mid = (start + end) // 2\n",
    "        if nums[mid] > nums[end]:\n",
    "            start = mid\n",
    "        else:\n",
    "            end = mid\n",
    "    return min(nums[start], nums[end])"
   ]
  },
  {
   "cell_type": "markdown",
   "metadata": {},
   "source": [
    "## sorted array to BST"
   ]
  },
  {
   "cell_type": "code",
   "execution_count": 24,
   "metadata": {},
   "outputs": [],
   "source": [
    "\"\"\"\n",
    "The  idea is similar to the preorder traversal\n",
    "\"\"\"\n",
    "\n",
    "def sortedArrayToBST(self, num):\n",
    "    if not num:\n",
    "        return None\n",
    "\n",
    "    mid = len(num) // 2\n",
    "\n",
    "    root = TreeNode(num[mid])\n",
    "    root.left = self.sortedArrayToBST(num[:mid])\n",
    "    root.right = self.sortedArrayToBST(num[mid+1:])\n",
    "\n",
    "    return root\n",
    "\n",
    "\n",
    "\"\"\"\n",
    "Sorted list to BST\n",
    "\"\"\"\n",
    "\n",
    "def sortedListToBST(self, head):\n",
    "    def findMiddle(head):\n",
    "        if not head:\n",
    "            return None\n",
    "        slow = fast = head\n",
    "        prev = None\n",
    "        while fast and fast.next:\n",
    "            prev = slow\n",
    "            slow = slow.next\n",
    "            fast = fast.next.next\n",
    "        return prev\n",
    "\n",
    "    def build(head):\n",
    "        if head is None:\n",
    "            return None\n",
    "        if head.next is None:\n",
    "            return TreeNode(head.val)\n",
    "        mid_prev = findMiddle(head)\n",
    "        mid = mid_prev.next\n",
    "        mid_next = mid.next\n",
    "        mid_prev.next = None\n",
    "        mid.next = None\n",
    "        node = TreeNode(mid.val)\n",
    "        node.left = build(head)\n",
    "        node.right = build(mid_next)\n",
    "        return node\n",
    "    return build(head)"
   ]
  },
  {
   "cell_type": "markdown",
   "metadata": {},
   "source": [
    "## Max Chunks To Make Sorted"
   ]
  },
  {
   "cell_type": "code",
   "execution_count": 25,
   "metadata": {},
   "outputs": [],
   "source": [
    "\"\"\"\n",
    "Input: arr = [4,3,2,1,0]\n",
    "Output: 1\n",
    "Explanation:\n",
    "Splitting into two or more chunks will not return the required result.\n",
    "For example, splitting into [4, 3], [2, 1, 0] will result in [3, 4, 0, 1, 2], which isn't sorted.\n",
    "\"\"\"\n",
    "\n",
    "def maxChunksToSorted(self, arr):\n",
    "    ans = ma = 0\n",
    "    for i, x in enumerate(arr):\n",
    "        ma = max(ma, x)\n",
    "        if ma == i: ans += 1\n",
    "    return ans\n",
    "\n",
    "\n",
    "\"\"\"\n",
    "with duplicates\n",
    "\"\"\"\n",
    "def maxChunksToSorted(self, arr):\n",
    "    count = collections.defaultdict(int)\n",
    "    ans = nonzero = 0\n",
    "\n",
    "    for x, y in zip(arr, sorted(arr)):\n",
    "        count[x] += 1\n",
    "        if count[x] == 0: nonzero -= 1\n",
    "        if count[x] == 1: nonzero += 1\n",
    "\n",
    "        count[y] -= 1\n",
    "        if count[y] == -1: nonzero += 1\n",
    "        if count[y] == 0: nonzero -= 1\n",
    "\n",
    "        if nonzero == 0: ans += 1\n",
    "\n",
    "    return ans"
   ]
  },
  {
   "cell_type": "markdown",
   "metadata": {},
   "source": [
    "## remove duplicates"
   ]
  },
  {
   "cell_type": "code",
   "execution_count": 26,
   "metadata": {},
   "outputs": [],
   "source": [
    "def removeDuplicates(nums):\n",
    "    if not nums: return 0\n",
    "    index = 0\n",
    "    for i in range(1,len(nums)):\n",
    "        if nums[i] != nums[index]:\n",
    "            index += 1\n",
    "            nums[index] = nums[i]\n",
    "    return index + 1"
   ]
  },
  {
   "cell_type": "markdown",
   "metadata": {},
   "source": [
    "## Best meeting point "
   ]
  },
  {
   "cell_type": "code",
   "execution_count": 27,
   "metadata": {},
   "outputs": [],
   "source": [
    "\"\"\"\n",
    "Give a grid with points and no obstacle find best meeting point\n",
    "\"\"\"\n",
    "\n",
    "\"\"\"\n",
    "The idea is to store all the row columns value for the points and the best meeting point will be the middle of the \n",
    "row and column sorted\n",
    "\n",
    "Find distance from that point to all point.\n",
    "\"\"\"\n",
    "\n",
    "def minTotalDistance(self, grid):\n",
    "        \n",
    "        if not grid:\n",
    "            return 0, 0\n",
    "        horizontal = []\n",
    "        vertical = []\n",
    "        \n",
    "        row_len = len(grid)\n",
    "        col_len = len(grid[0])\n",
    "        points = []\n",
    "        count = 0\n",
    "        \n",
    "        \n",
    "        for row in range(row_len):\n",
    "            for col in range(col_len):\n",
    "                if grid[row][col] == 1:\n",
    "                    count += 1\n",
    "                    points.append((row,col))\n",
    "                    horizontal.append(row)\n",
    "                    vertical.append(col)\n",
    "        \n",
    "        horizontal.sort()\n",
    "        vertical.sort()\n",
    "        meet_x, meet_y = horizontal[count//2], vertical[count//2]\n",
    "        result = 0\n",
    "        \n",
    "        for x, y in points:\n",
    "            result += abs(meet_x-x) + abs(meet_y-y)\n",
    "            \n",
    "        return result"
   ]
  },
  {
   "cell_type": "markdown",
   "metadata": {},
   "source": [
    "## number of binary search trees"
   ]
  },
  {
   "cell_type": "code",
   "execution_count": 28,
   "metadata": {},
   "outputs": [],
   "source": [
    "## for any increasing numbers no. of binary search trees are same.\n",
    "## 1,2,3 will have same number of bst as 5,6,7\n",
    "\n",
    "## to find number of binary search trees for n\n",
    "## iterate through the array with each array element as a root.\n",
    "## multiply number of left sub trees with number of right subtrees\n",
    "\n",
    "def numTrees(self, n):\n",
    "    res = [0 for i in range(n+1)]\n",
    "    res[0] = 1\n",
    "    res[1] = 1\n",
    "\n",
    "    for i in range(2,n+1):\n",
    "        for j in range(0,i):\n",
    "            res[i] += res[j] * res[i-j-1]\n",
    "\n",
    "    return res[n]"
   ]
  },
  {
   "cell_type": "markdown",
   "metadata": {},
   "source": [
    "## generate binary trees"
   ]
  },
  {
   "cell_type": "code",
   "execution_count": 29,
   "metadata": {},
   "outputs": [],
   "source": [
    "\"\"\"\n",
    "nums :- integer\n",
    "\"\"\"\n",
    "\n",
    "def generate(nums):\n",
    "    def node(val, left, right):\n",
    "        node = TreeNode(val)\n",
    "        node.left = left\n",
    "        node.right = right\n",
    "        return node\n",
    "    def trees(nums, start, end):\n",
    "        return [node(index, left, right) for index in range(start, end) for left in trees(start, index-1) for right in range(index+1, end)] or [None]\n",
    "    return trees(0, len(nums)+1)"
   ]
  },
  {
   "cell_type": "markdown",
   "metadata": {},
   "source": [
    "## Imp** Longest Paliandromic subsequence"
   ]
  },
  {
   "cell_type": "code",
   "execution_count": 30,
   "metadata": {},
   "outputs": [
    {
     "data": {
      "text/plain": [
       "3"
      ]
     },
     "execution_count": 30,
     "metadata": {},
     "output_type": "execute_result"
    }
   ],
   "source": [
    "string = \"abcda\"\n",
    "ans = \"abcba\"\n",
    "def longestPalindromic(string):\n",
    "    length = len(string)\n",
    "    ret = [[0 for i in range(length)] for j in range(length)]\n",
    "    for i in range(length):\n",
    "        ret[i][i] = 1\n",
    "    for gap in range(1, length):\n",
    "        for row in range(length-gap):\n",
    "            col = row + gap\n",
    "            if gap == 1 and string[row] == string[col]:\n",
    "                ret[row][col] = 2\n",
    "            else:\n",
    "                if string[row] == string[col]:\n",
    "                    ret[row][col] = 2 + ret[row+1][col-1]\n",
    "                else:\n",
    "                    ret[row][col] = max(ret[row-1][col], ret[row][col-1])\n",
    "    return ret[0][length-1]\n",
    "longestPalindromic(string)"
   ]
  },
  {
   "cell_type": "markdown",
   "metadata": {},
   "source": [
    "## Cutting Rod"
   ]
  },
  {
   "cell_type": "code",
   "execution_count": 31,
   "metadata": {},
   "outputs": [
    {
     "data": {
      "text/plain": [
       "10"
      ]
     },
     "execution_count": 31,
     "metadata": {},
     "output_type": "execute_result"
    }
   ],
   "source": [
    "def cut_rod(prices):\n",
    "    length = len(prices)\n",
    "    ret = [[0 for _ in range(length+1)] for _ in range(length+1)]\n",
    "    for row in range(1, length+1):\n",
    "        for col in range(1, length+1):\n",
    "            if col < row:\n",
    "                ret[row][col] = ret[row-1][col]\n",
    "            else:\n",
    "                ret[row][col] = max(ret[row][col-1], ret[row][col-prices[row-1]]+prices[row-1])\n",
    "    return ret[length][length]\n",
    "cut_rod([2,3,7,8])"
   ]
  },
  {
   "cell_type": "markdown",
   "metadata": {},
   "source": [
    "## matrix chain multiplication"
   ]
  },
  {
   "cell_type": "code",
   "execution_count": 32,
   "metadata": {},
   "outputs": [
    {
     "data": {
      "text/plain": [
       "64"
      ]
     },
     "execution_count": 32,
     "metadata": {},
     "output_type": "execute_result"
    }
   ],
   "source": [
    "def matrix_chain(array):\n",
    "    length = len(array)\n",
    "    ret = [[0 for _ in range(length)] for _ in range(length)]\n",
    "    \n",
    "    \n",
    "    for gap in range(2, length):\n",
    "        for row in range(0,length-gap):\n",
    "            col = row + gap\n",
    "            ret[row][col] = float('inf')\n",
    "            for k in range(row+1, col):\n",
    "                ret[row][col] = min(ret[row][col], ret[row][k] + ret[k][col] + array[row]*array[col]*array[k])\n",
    "    return ret[0][-1]\n",
    "\n",
    "matrix_chain([2,3,4,5])"
   ]
  },
  {
   "cell_type": "markdown",
   "metadata": {},
   "source": [
    "## coin change - min coins"
   ]
  },
  {
   "cell_type": "code",
   "execution_count": 33,
   "metadata": {},
   "outputs": [
    {
     "name": "stdout",
     "output_type": "stream",
     "text": [
      "[[0, inf, inf, inf, inf, inf], [0, 1, 2, 3, 4, 5], [0, 1, 1, 2, 2, 3], [0, 1, 1, 1, 2, 2]]\n"
     ]
    },
    {
     "data": {
      "text/plain": [
       "2"
      ]
     },
     "execution_count": 33,
     "metadata": {},
     "output_type": "execute_result"
    }
   ],
   "source": [
    "def coin_change_min_coin(arr, target):\n",
    "    row_len = len(arr) + 1\n",
    "    col_len = target + 1\n",
    "    \n",
    "    ret = [[float('inf') for _ in range(col_len)] for _ in range(row_len)]\n",
    "    \n",
    "    for row in range(row_len):\n",
    "        ret[row][0] = 0\n",
    "    \n",
    "    for row in range(1, row_len):\n",
    "        for col in range(1, col_len):\n",
    "            if col < arr[row-1]:\n",
    "                ret[row][col] = ret[row-1][col]\n",
    "            else:\n",
    "                ret[row][col] = min(ret[row-1][col], ret[row][col-arr[row-1]] + 1)\n",
    "    print(ret)\n",
    "    return ret[row_len-1][col_len-1]\n",
    "\n",
    "coin_change_min_coin([1,2,3], 5)"
   ]
  },
  {
   "cell_type": "markdown",
   "metadata": {},
   "source": [
    "## coin change - num ways"
   ]
  },
  {
   "cell_type": "code",
   "execution_count": 34,
   "metadata": {},
   "outputs": [
    {
     "data": {
      "text/plain": [
       "4"
      ]
     },
     "execution_count": 34,
     "metadata": {},
     "output_type": "execute_result"
    }
   ],
   "source": [
    "def coin_change_num_ways(coins, target):\n",
    "    \n",
    "    if not coins:\n",
    "        return 0\n",
    "\n",
    "    ret = [[0 for _ in range(target+1)] for _ in range(len(coins)+1)]\n",
    "    for row in range(len(coins)+1):\n",
    "        ret[row][0] = 1\n",
    "    \n",
    "    for row in range(1, len(coins)+1):\n",
    "        for col in range(1,target+1):\n",
    "            if coins[row-1] > col:\n",
    "                ret[row][col] = ret[row][col-1]\n",
    "            else:\n",
    "                ret[row][col] = ret[row-1][col] + ret[row][col-coins[row-1]]\n",
    "    return ret[len(coins)][target]\n",
    "\n",
    "coin_change_num_ways([1,2,3], 5)"
   ]
  },
  {
   "cell_type": "markdown",
   "metadata": {},
   "source": [
    "## 0 1 knapsack"
   ]
  },
  {
   "cell_type": "code",
   "execution_count": null,
   "metadata": {},
   "outputs": [],
   "source": []
  },
  {
   "cell_type": "markdown",
   "metadata": {},
   "source": [
    "## subset sum problem"
   ]
  },
  {
   "cell_type": "code",
   "execution_count": null,
   "metadata": {},
   "outputs": [],
   "source": []
  },
  {
   "cell_type": "markdown",
   "metadata": {},
   "source": [
    "## Longest Commmon subsequence/ substring"
   ]
  },
  {
   "cell_type": "code",
   "execution_count": 35,
   "metadata": {},
   "outputs": [
    {
     "data": {
      "text/plain": [
       "3"
      ]
     },
     "execution_count": 35,
     "metadata": {},
     "output_type": "execute_result"
    }
   ],
   "source": [
    "def longest_common_subsequnce(string1, string2):\n",
    "    row_len = len(string1) + 1\n",
    "    col_len = len(string2) + 1\n",
    "    \n",
    "    ret = [[0 for _ in range(row_len)] for _ in range(col_len)]\n",
    "    \n",
    "    for row in range(1, row_len):\n",
    "        for col in range(1, col_len):\n",
    "            if string1[row-1] == string2[col-1]:\n",
    "                ret[row][col] = ret[row-1][col-1] + 1\n",
    "            else:\n",
    "                ret[row][col] = max(ret[row-1][col], ret[row][col-1])\n",
    "    return ret[-1][-1]\n",
    "\n",
    "longest_common_subsequnce(\"abcd\", \"axbd\")"
   ]
  },
  {
   "cell_type": "markdown",
   "metadata": {},
   "source": [
    "## Longest increasing subsequence"
   ]
  },
  {
   "cell_type": "code",
   "execution_count": 36,
   "metadata": {},
   "outputs": [
    {
     "data": {
      "text/plain": [
       "5"
      ]
     },
     "execution_count": 36,
     "metadata": {},
     "output_type": "execute_result"
    }
   ],
   "source": [
    "def longest_increasing(array):\n",
    "    length = len(array)\n",
    "    ret = [1] * length\n",
    "    \n",
    "    for i in range(1, length):\n",
    "        ret[i] = max([ret[j] + 1 for j in range(i) if array[j] <= array[i]]+[1])\n",
    "    return ret[-1]\n",
    "\n",
    "longest_increasing([1,3,2,4,5,0,7])"
   ]
  },
  {
   "cell_type": "markdown",
   "metadata": {},
   "source": [
    "## remove K digit such that the new number is minimum"
   ]
  },
  {
   "cell_type": "code",
   "execution_count": 37,
   "metadata": {},
   "outputs": [
    {
     "data": {
      "text/plain": [
       "'128'"
      ]
     },
     "execution_count": 37,
     "metadata": {},
     "output_type": "execute_result"
    }
   ],
   "source": [
    "\"\"\"\n",
    "brute force\n",
    "runtime: exponential\n",
    "\"\"\"\n",
    "\n",
    "def removeKdigits(self, num, k):\n",
    "    if len(num) <= k:\n",
    "        return \"0\"\n",
    "    if not k:\n",
    "        return num\n",
    "    def removeK(nums, k):\n",
    "        if not nums:\n",
    "            return 0\n",
    "        if not k:\n",
    "            return int(nums)\n",
    "        return min(removeK(nums[:i] + nums[i+1:], k-1) for i in range(len(nums)))\n",
    "    return str(removeK(num, k))\n",
    "\n",
    "\"\"\"\n",
    "greedy\n",
    "O(n)\n",
    "\"\"\"\n",
    "\n",
    "def removeKdigits(num, k):\n",
    "    stack = []\n",
    "    nums = list(num)\n",
    "    for n in nums:\n",
    "        while stack and n < stack[-1] and k > 0:\n",
    "            stack.pop()\n",
    "            k -= 1\n",
    "        stack.append(n)\n",
    "    for _ in range(k): stack.pop()\n",
    "    if not stack: stack.append(\"0\")\n",
    "    return str(int(\"\".join(stack)))\n",
    "\n",
    "removeKdigits(\"19298\", 2)"
   ]
  },
  {
   "cell_type": "markdown",
   "metadata": {},
   "source": [
    "## string interleaving"
   ]
  },
  {
   "cell_type": "code",
   "execution_count": 38,
   "metadata": {},
   "outputs": [
    {
     "data": {
      "text/plain": [
       "True"
      ]
     },
     "execution_count": 38,
     "metadata": {},
     "output_type": "execute_result"
    }
   ],
   "source": [
    "\"\"\"\n",
    "dynamic programming\n",
    "\"\"\"\n",
    "\n",
    "def string_interleaving(str1, str2, str3):\n",
    "    l1, l2, l3 = len(str1), len(str2), len(str3)\n",
    "    if l1 + l2 != l3:\n",
    "        return False\n",
    "    \n",
    "    ret = [[False for _ in range(l1+1)] for _ in range(l2+1)]\n",
    "    # row = str2\n",
    "    # col = str1\n",
    "    \n",
    "    for row in range(l2+1):\n",
    "        for col in range(l1+1):\n",
    "            index = row + col - 1\n",
    "            if row == 0 and col == 0:\n",
    "                ret[row][col] = True\n",
    "                \n",
    "            elif row == 0 and str1[col-1] == str3[index]:\n",
    "                ret[row][col] = True and ret[row][col-1]\n",
    "                \n",
    "            elif col == 0 and str2[row-1] == str3[index]:\n",
    "                ret[row][col] = True and ret[row-1][col]\n",
    "                \n",
    "            else:\n",
    "                ret[row][col] = (ret[row-1][col] if str2[row-1] == str3[index] else False) or (ret[row][col-1] if str1[col-1] == str3[index] else False)\n",
    "    \n",
    "    return ret[-1][-1]\n",
    "\n",
    "string_interleaving(\"afd\", \"sgh\", \"asgfdh\")"
   ]
  },
  {
   "cell_type": "markdown",
   "metadata": {},
   "source": [
    "## Binary Tree Maximum Path Sum"
   ]
  },
  {
   "cell_type": "code",
   "execution_count": 39,
   "metadata": {},
   "outputs": [
    {
     "data": {
      "text/plain": [
       "'\\nImprovements : improve condit\\n'"
      ]
     },
     "execution_count": 39,
     "metadata": {},
     "output_type": "execute_result"
    }
   ],
   "source": [
    "def maxPathSum(self, root):\n",
    "    longest = [float('-inf')]\n",
    "    def pathSum(root):\n",
    "        if root is None:\n",
    "            return 0\n",
    "        rootval = root.val\n",
    "        left = pathSum(root.left)\n",
    "        right = pathSum(root.right)\n",
    "        longest[0] = max(longest[0], rootval, rootval+left+right, rootval+left, rootval+right)\n",
    "        return max(rootval+left, rootval+right, rootval, 0)\n",
    "    pathSum(root)\n",
    "    return longest[0]\n",
    "\n",
    "\"\"\"\n",
    "Improvements : improve condit\n",
    "\"\"\""
   ]
  },
  {
   "cell_type": "markdown",
   "metadata": {},
   "source": [
    "## Maximum consecative ones"
   ]
  },
  {
   "cell_type": "code",
   "execution_count": 40,
   "metadata": {},
   "outputs": [],
   "source": [
    "\"\"\"\n",
    "we can flip one zero to one\n",
    "\"\"\"\n",
    "\n",
    "def findMaxConsecutiveOnes(self, nums):\n",
    "    prev, curr, maxlen = -1, 0, 0\n",
    "    for n in nums:\n",
    "        if n == 0:\n",
    "            prev, curr = curr, 0\n",
    "        else:\n",
    "            curr += 1\n",
    "            maxlen = max(maxlen, prev+curr+1)\n",
    "    return max(maxlen, prev+curr+1)"
   ]
  },
  {
   "cell_type": "markdown",
   "metadata": {},
   "source": [
    "## Max distance  to closet person"
   ]
  },
  {
   "cell_type": "code",
   "execution_count": 41,
   "metadata": {},
   "outputs": [],
   "source": [
    "\"\"\"\n",
    "insert element such  that it is at maximum  distance from the person sitting.\n",
    "\n",
    "Input: [1,0,0,0,1,0,1]\n",
    "Output: 2\n",
    "\n",
    "\"\"\"\n",
    "\n",
    "def maxDistToClosest(self, seats):\n",
    "    l,r = 0, 0\n",
    "    ret = 0\n",
    "    while r < len(seats):\n",
    "        if l == 0 and seats[l] == 0:\n",
    "            ret = max(ret, r-l)\n",
    "        if r == len(seats) - 1 and seats[r] == 0:\n",
    "            ret = max(ret, r-l)\n",
    "        if seats[r] == 1:\n",
    "            ret = max(ret, (r-l)/2)\n",
    "            l = r\n",
    "            r += 1\n",
    "        else:\n",
    "            r += 1\n",
    "    return ret\n"
   ]
  },
  {
   "cell_type": "markdown",
   "metadata": {},
   "source": [
    "## Exam Room"
   ]
  },
  {
   "cell_type": "code",
   "execution_count": null,
   "metadata": {},
   "outputs": [],
   "source": []
  },
  {
   "cell_type": "markdown",
   "metadata": {},
   "source": [
    "## Maximum Length of Pair Chain\n",
    "\n",
    "    Input: [[1,2], [2,3], [3,4]]\n",
    "    Output: 2\n",
    "    Explanation: The longest chain is [1,2] -> [3,4]"
   ]
  },
  {
   "cell_type": "code",
   "execution_count": 42,
   "metadata": {},
   "outputs": [],
   "source": [
    "\"\"\"\n",
    "Gives TLE\n",
    "\"\"\"\n",
    "\n",
    "def findLongestChain(pairs):\n",
    "    pairs.sort()\n",
    "    length = len(pairs)\n",
    "    \n",
    "    dp = [1] * length\n",
    "    \n",
    "    for i in range(length):\n",
    "        for j in range(i):\n",
    "            if pairs[j][1] < pairs[i][0]: \n",
    "                dp[i] = max(dp[i], dp[j]+1)\n",
    "    return max(dp)\n",
    "            \n",
    "\"\"\"\n",
    "sort w.r.t end time and find max length pairs\n",
    "\"\"\"\n",
    "\n",
    "def findLongestChain(pairs):\n",
    "    pairs.sort(key=lambda x: x[1])\n",
    "    count = 0\n",
    "    end = float('-inf')\n",
    "    for pair in pairs:\n",
    "        if pair[0] > end:\n",
    "            end = pair[1]\n",
    "            count += 1\n",
    "    return count"
   ]
  },
  {
   "cell_type": "markdown",
   "metadata": {},
   "source": [
    "## Maximal Reactangle"
   ]
  },
  {
   "cell_type": "code",
   "execution_count": null,
   "metadata": {},
   "outputs": [],
   "source": []
  },
  {
   "cell_type": "markdown",
   "metadata": {},
   "source": [
    "## Maximum swaps at most 1 swap"
   ]
  },
  {
   "cell_type": "code",
   "execution_count": 43,
   "metadata": {},
   "outputs": [],
   "source": [
    "\"\"\"\n",
    "Input: 2736\n",
    "Output: 7236\n",
    "Explanation: Swap the number 2 and the number 7.\n",
    "\n",
    "we create hasmap as {number : index}\n",
    "for each number \n",
    "    for numbers from  9 to current number:\n",
    "        we check if greater number is present at index greater than current index\n",
    "            if present we swap and return\n",
    "\n",
    "\n",
    "edge case if there are duplicates, those will be ignored as we store max index for number in dictionary\n",
    "\n",
    "\"\"\"\n",
    "\n",
    "def maximumSwap(self, num):\n",
    "    A = map(int, str(num))\n",
    "    last = {x: i for i, x in enumerate(A)}\n",
    "    for i, x in enumerate(A):\n",
    "        for d in xrange(9, x, -1):\n",
    "            if last.get(d, None) > i:\n",
    "                A[i], A[last[d]] = A[last[d]], A[i]\n",
    "                return int(\"\".join(map(str, A)))\n",
    "    return num"
   ]
  },
  {
   "cell_type": "markdown",
   "metadata": {},
   "source": [
    "## Create Maximum Number"
   ]
  },
  {
   "cell_type": "code",
   "execution_count": null,
   "metadata": {},
   "outputs": [],
   "source": []
  },
  {
   "cell_type": "markdown",
   "metadata": {},
   "source": [
    "## Maximum product subarray"
   ]
  },
  {
   "cell_type": "code",
   "execution_count": 44,
   "metadata": {},
   "outputs": [],
   "source": [
    "\"\"\"\n",
    "cases to consider \n",
    "    1. negative numbers in array\n",
    "\"\"\"\n",
    "\n",
    "def maxProduct(self, nums):\n",
    "    maxim = big = small = nums[0]\n",
    "    for n in nums[1:]:\n",
    "        l_big = max(n, n*big, n*small)\n",
    "        l_small = min(n, n*big, n*small)\n",
    "        big = l_big\n",
    "        small = l_small\n",
    "        maxim = max(maxim,big)\n",
    "    return maxim"
   ]
  },
  {
   "cell_type": "markdown",
   "metadata": {},
   "source": [
    "## Subarray Product Less Than K"
   ]
  },
  {
   "cell_type": "code",
   "execution_count": 45,
   "metadata": {},
   "outputs": [],
   "source": [
    "\"\"\"\n",
    "the idea is to have to pointer and update\n",
    "if the product goes beyond k, \n",
    "    remove elements from left till the product goes below k\n",
    "\"\"\"\n",
    "\n",
    "def numSubarrayProductLessThanK(nums, k):\n",
    "    if k <= 1: return 0\n",
    "    prod = 1\n",
    "    ans = left = 0\n",
    "    for right, val in enumerate(nums):\n",
    "        prod *= val\n",
    "        while prod >= k:\n",
    "            prod /= nums[left]\n",
    "            left += 1\n",
    "        ans += right - left + 1\n",
    "    return ans"
   ]
  },
  {
   "cell_type": "markdown",
   "metadata": {},
   "source": [
    "## Create Maximum Number\n",
    "\n",
    "    Given two arrays of length m and n with digits 0-9 representing two numbers. Create the maximum number of length k <= m + n from digits of the two. The relative order of the digits from the same array must be preserved. Return an array of the k digits.\n",
    "\n",
    "    Note: You should try to optimize your time and space complexity.\n",
    "\n",
    "\n",
    "    Input:\n",
    "    nums1 = [6, 7]\n",
    "    nums2 = [6, 0, 4]\n",
    "    k = 5\n",
    "    Output:\n",
    "    [6, 7, 6, 0, 4]"
   ]
  },
  {
   "cell_type": "code",
   "execution_count": 46,
   "metadata": {},
   "outputs": [],
   "source": [
    "\"\"\"\n",
    "The idea is to select numbers to be used from arrays.\n",
    "\n",
    "Here we can choose 0,k elements from one array and remaining from other.\n",
    "\n",
    "So, we find all such k combination and return the maximum numbers in order.\n",
    "\n",
    "\"\"\"\n",
    "\n",
    "class Solution(object):\n",
    "    def maxNumber(self, nums1, nums2, k):\n",
    "\n",
    "        def prep(nums, k):\n",
    "            drop = len(nums) - k\n",
    "            out = []\n",
    "            for num in nums:\n",
    "                while drop and out and out[-1] < num:\n",
    "                    out.pop()\n",
    "                    drop -= 1\n",
    "                out.append(num)\n",
    "            return out[:k]\n",
    "\n",
    "        def merge(a, b):\n",
    "            val = [max(a, b).pop(0) for _ in a+b]\n",
    "            return val\n",
    "\n",
    "        return max(merge(prep(nums1, i), prep(nums2, k-i))\n",
    "                   for i in range(k+1)\n",
    "                   if i <= len(nums1) and k-i <= len(nums2))"
   ]
  },
  {
   "cell_type": "markdown",
   "metadata": {},
   "source": [
    "## Max frequency stack\n",
    "\n",
    "    Implement FreqStack, a class which simulates the operation of a stack-like data structure.\n",
    "\n",
    "    FreqStack has two functions:\n",
    "\n",
    "    push(int x), which pushes an integer x onto the stack.\n",
    "    pop(), which removes and returns the most frequent element in the stack.\n",
    "    If there is a tie for most frequent element, the element closest to the top of the stack is removed and returned."
   ]
  },
  {
   "cell_type": "code",
   "execution_count": 47,
   "metadata": {},
   "outputs": [],
   "source": [
    "\"\"\"\n",
    "maintain a counter which has freq for each element \n",
    "\n",
    "maintain a dictionary which has elemnts with that freqency.\n",
    "\n",
    "\"\"\"\n",
    "\n",
    "\n",
    "class FreqStack(object):\n",
    "\n",
    "    def __init__(self):\n",
    "        self.freq = collections.Counter()\n",
    "        self.dict = collections.defaultdict(list)\n",
    "        self.maxfreq = 0\n",
    "        \n",
    "\n",
    "    def push(self, x):\n",
    "        self.freq[x] += 1\n",
    "        self.dict[self.freq[x]].append(x)\n",
    "        if self.freq[x] > self.maxfreq:\n",
    "            self.maxfreq = self.freq[x]\n",
    "        \n",
    "\n",
    "    def pop(self):\n",
    "        val = self.dict[self.maxfreq].pop()\n",
    "        self.freq[val] -= 1\n",
    "        if self.maxfreq and not self.dict[self.maxfreq]:\n",
    "            self.maxfreq -= 1\n",
    "        return val"
   ]
  },
  {
   "cell_type": "markdown",
   "metadata": {},
   "source": [
    "## Maximum Product of Word Lengths"
   ]
  },
  {
   "cell_type": "code",
   "execution_count": 48,
   "metadata": {},
   "outputs": [],
   "source": [
    "\"\"\"\n",
    "Here the idea is to mask each word to a encoding \n",
    "i.e. binaray value for each word and combine those\n",
    "\n",
    "if the and operation for two words returns something that means we have overlapp\n",
    "\n",
    "\"\"\"\n",
    "\n",
    "\n",
    "class Solution(object):\n",
    "    def maxProduct(self, words):\n",
    "        d = {}\n",
    "        for word in words:\n",
    "            mask = 0\n",
    "            for c in set(word):\n",
    "                mask = mask | (1 << (ord(c) - 97))\n",
    "                \n",
    "            d[mask] = max(d.get(mask, 0), len(word))\n",
    "        return max([d[i] * d[j] for i in d.keys() for j in d.keys() if not i & j] + [0])"
   ]
  },
  {
   "cell_type": "code",
   "execution_count": 49,
   "metadata": {},
   "outputs": [],
   "source": [
    "# zip(*grid)\n",
    "# max(a, b).pop(0) for _ in a+b"
   ]
  },
  {
   "cell_type": "code",
   "execution_count": 50,
   "metadata": {},
   "outputs": [],
   "source": [
    "m = [[1,2],[2,3]]"
   ]
  },
  {
   "cell_type": "code",
   "execution_count": 51,
   "metadata": {},
   "outputs": [
    {
     "data": {
      "text/plain": [
       "[1, 2, 2, 3]"
      ]
     },
     "execution_count": 51,
     "metadata": {},
     "output_type": "execute_result"
    }
   ],
   "source": [
    "[c for row in m for c in row]"
   ]
  },
  {
   "cell_type": "code",
   "execution_count": null,
   "metadata": {},
   "outputs": [],
   "source": []
  },
  {
   "cell_type": "code",
   "execution_count": null,
   "metadata": {},
   "outputs": [],
   "source": []
  },
  {
   "cell_type": "markdown",
   "metadata": {},
   "source": [
    "## Maximum Length of Repeated Subarray"
   ]
  },
  {
   "cell_type": "code",
   "execution_count": 52,
   "metadata": {},
   "outputs": [],
   "source": [
    "\"\"\"\n",
    "O(n**2) dp solution\n",
    "\"\"\"\n",
    "def findLength(self, A, B):\n",
    "    a_len = len(A)\n",
    "    b_len = len(B)\n",
    "    if not a_len or not b_len:\n",
    "        return 0\n",
    "\n",
    "    ret = [[0 for _ in range(a_len + 1)] for _ in range(b_len+1)]\n",
    "\n",
    "    # A - > col\n",
    "    # B -> row\n",
    "    result = float('-inf')\n",
    "    for row in range(1,b_len+1):\n",
    "        for col in range(1, a_len+1):\n",
    "            if B[row-1] == A[col-1]:\n",
    "                ret[row][col] = ret[row-1][col-1] + 1\n",
    "            result = max(result, ret[row][col])\n",
    "    return result\n",
    "\n",
    "\n",
    "\"\"\"\n",
    "O(n) solution\n",
    "\"\"\"\n",
    "\n",
    "def findLength(self, A, B):\n",
    "    A, res, sub = \"X%sX\" % \"X\".join(map(str, A)), 0, \"X\"\n",
    "    # print A\n",
    "    for num in B:\n",
    "        sub += str(num) + \"X\"\n",
    "        if sub in A:\n",
    "            res += 1\n",
    "        else: \n",
    "            sub = sub[sub[1:].index(\"X\") + 1:]\n",
    "        # print sub\n",
    "    return res"
   ]
  },
  {
   "cell_type": "markdown",
   "metadata": {},
   "source": [
    "## maximum width of binary tree"
   ]
  },
  {
   "cell_type": "code",
   "execution_count": 53,
   "metadata": {},
   "outputs": [],
   "source": [
    "\"\"\"\n",
    "The important point is incrementing position along with the depth\n",
    "        traverse(root.left, depth+1, pos*2)\n",
    "        traverse(root.right, depth+1, pos*2+1)\n",
    "\"\"\"\n",
    "\n",
    "def widthOfBinaryTree(root):\n",
    "    left = {}\n",
    "    ans = [0]\n",
    "    def traverse(root, depth=0, pos=0):\n",
    "        if root is None: return\n",
    "        left.setdefault(depth, pos)\n",
    "        ans[0] = max(ans[0], pos-left[depth]+1)\n",
    "        traverse(root.left, depth+1, pos*2)\n",
    "        traverse(root.right, depth+1, pos*2+1)\n",
    "    traverse(root)\n",
    "    return ans[0]"
   ]
  },
  {
   "cell_type": "markdown",
   "metadata": {},
   "source": [
    "## Maximum Size Subarray Sum Equals k"
   ]
  },
  {
   "cell_type": "code",
   "execution_count": 54,
   "metadata": {},
   "outputs": [],
   "source": [
    "def maxSubArrayLen(self, nums, k):\n",
    "    d = {0:-1}\n",
    "    count = 0\n",
    "    ans = 0\n",
    "    for i in range(len(nums)):\n",
    "        count += nums[i]\n",
    "        if count not in d:\n",
    "            d[count] = i\n",
    "        if count - k in d:\n",
    "            ans = max(ans, i - d[count-k])\n",
    "    return ans"
   ]
  },
  {
   "cell_type": "markdown",
   "metadata": {},
   "source": [
    "## Minimum Size Subarray Sum"
   ]
  },
  {
   "cell_type": "code",
   "execution_count": null,
   "metadata": {},
   "outputs": [],
   "source": []
  },
  {
   "cell_type": "markdown",
   "metadata": {},
   "source": []
  },
  {
   "cell_type": "markdown",
   "metadata": {},
   "source": [
    "## Word Break \n",
    "    check if string can be formed from words"
   ]
  },
  {
   "cell_type": "code",
   "execution_count": 55,
   "metadata": {},
   "outputs": [
    {
     "data": {
      "text/plain": [
       "'\\nsolution with dfs\\n'"
      ]
     },
     "execution_count": 55,
     "metadata": {},
     "output_type": "execute_result"
    }
   ],
   "source": [
    "\"\"\"\n",
    "Time complexity : O(n^2)\n",
    "\n",
    "Space complexity : O(n). Length of dp array is n+1.\n",
    "\n",
    "\"\"\"\n",
    "\n",
    "def wordBreak(self, s, wordDict):\n",
    "    if not wordDict or not s:\n",
    "        return False\n",
    "    l = len(s)\n",
    "    wordDict = set(wordDict)\n",
    "    dp = [False for i in range(l+1)]\n",
    "    dp[0] = True\n",
    "\n",
    "    for i in range(1, l+1):\n",
    "        for j in range(i):\n",
    "            if dp[j] and s[j:i] in wordDict:\n",
    "                dp[i] = True\n",
    "    return dp[-1]\n",
    "\n",
    "\"\"\"\n",
    "solution with memo\n",
    "\"\"\"\n",
    "\n",
    "\n",
    "\n",
    "\"\"\"\n",
    "solution with dfs\n",
    "\"\"\""
   ]
  },
  {
   "cell_type": "markdown",
   "metadata": {},
   "source": [
    "## Word Break 2"
   ]
  },
  {
   "cell_type": "code",
   "execution_count": 56,
   "metadata": {},
   "outputs": [
    {
     "data": {
      "text/plain": [
       "'\\nsolution with dp\\n'"
      ]
     },
     "execution_count": 56,
     "metadata": {},
     "output_type": "execute_result"
    }
   ],
   "source": [
    "\"\"\"\n",
    "Solution with memo\n",
    "\"\"\"\n",
    "\n",
    "def wordBreak(self, s, wordDict):\n",
    "    memo = {len(s): ['']}\n",
    "    def sentences(i):\n",
    "        if i not in memo:\n",
    "            memo[i] = [s[i:j] + (tail and ' ' + tail)\n",
    "                       for j in range(i+1, len(s)+1)\n",
    "                       if s[i:j] in wordDict\n",
    "                       for tail in sentences(j)]\n",
    "        return memo[i]\n",
    "    return sentences(0)\n",
    "\n",
    "\"\"\"\n",
    "solution with dp\n",
    "\"\"\""
   ]
  },
  {
   "cell_type": "markdown",
   "metadata": {},
   "source": [
    "## Concatenated words"
   ]
  },
  {
   "cell_type": "code",
   "execution_count": 57,
   "metadata": {},
   "outputs": [],
   "source": [
    "def findAllConcatenatedWordsInADict(self, words):\n",
    "    d = set(words)\n",
    "\n",
    "    def dfs(word):\n",
    "        for i in range(1, len(word)):\n",
    "            prefix = word[:i]\n",
    "            suffix = word[i:]\n",
    "\n",
    "            if prefix in d and suffix in d:\n",
    "                return True\n",
    "            if prefix in d and dfs(suffix):\n",
    "                return True\n",
    "            if suffix in d and dfs(prefix):\n",
    "                return True\n",
    "\n",
    "        return False\n",
    "\n",
    "    res = []\n",
    "    for word in words:\n",
    "        if dfs(word):\n",
    "            res.append(word)\n",
    "\n",
    "    return res"
   ]
  },
  {
   "cell_type": "markdown",
   "metadata": {},
   "source": [
    "## pattern matching"
   ]
  },
  {
   "cell_type": "code",
   "execution_count": 58,
   "metadata": {},
   "outputs": [
    {
     "name": "stdout",
     "output_type": "stream",
     "text": [
      "[0, 5]\n"
     ]
    }
   ],
   "source": [
    "def z_algo(arr):\n",
    "    z = [0 for i in range(len(arr))]\n",
    "    left , right = 0 , 0\n",
    "    for k in range(1 , len(arr)):\n",
    "        if k > right:\n",
    "            left = k\n",
    "            right = k\n",
    "            while right < len(arr) and arr[right] == arr[right-left]:\n",
    "                right += 1\n",
    "            z[k] = right - left\n",
    "            right -= 1\n",
    "        else:\n",
    "            k1 = k - left\n",
    "            if z[k1] < right - k + 1:\n",
    "                z[k] = z[k1]\n",
    "            else:\n",
    "                left = k\n",
    "                while right < len(arr) and arr[right] == arr[right-left]:\n",
    "                    right += 1\n",
    "                z[k] = right - left\n",
    "                right -= 1\n",
    "    return z\n",
    "                \n",
    "            \n",
    "def makepattern(string , pattern):\n",
    "    n , m = len(string) , len(pattern)\n",
    "    str_arr = []\n",
    "    for i in range(m):\n",
    "        str_arr.append(pattern[i])\n",
    "    str_arr.append('$')\n",
    "    for i in range(n):\n",
    "        str_arr.append(string[i])\n",
    "        \n",
    "    z_values = z_algo(str_arr)\n",
    "    result = []\n",
    "    for i in range(len(z_values)):\n",
    "        if z_values[i] == m:\n",
    "            result.append(i - m - 1)\n",
    "    print result\n",
    "\n",
    "\n",
    "\n",
    "if __name__ == '__main__':\n",
    "    string = 'abcdeabcd'\n",
    "    pattern = 'abc'\n",
    "    makepattern(string , pattern)"
   ]
  },
  {
   "cell_type": "markdown",
   "metadata": {},
   "source": [
    "## Word Search "
   ]
  },
  {
   "cell_type": "code",
   "execution_count": 59,
   "metadata": {},
   "outputs": [],
   "source": [
    "def exist(self, board, word):\n",
    "    if not board:\n",
    "        return False\n",
    "    for i in range(len(board)):\n",
    "        for j in range(len(board[0])):\n",
    "            if self.dfs(board, i, j, word):\n",
    "                return True\n",
    "    return False\n",
    "   \n",
    "def dfs(self, board, i, j, word):\n",
    "    if len(word) == 0:\n",
    "        return True\n",
    "    if i<0 or i>=len(board) or j<0 or j>=len(board[0]) or word[0]!=board[i][j]:\n",
    "        return False\n",
    "    tmp = board[i][j]\n",
    "    board[i][j] = \"#\"\n",
    "    res = self.dfs(board, i+1, j, word[1:]) or self.dfs(board, i-1, j, word[1:]) \\\n",
    "    or self.dfs(board, i, j+1, word[1:]) or self.dfs(board, i, j-1, word[1:])\n",
    "    board[i][j] = tmp\n",
    "    return res"
   ]
  },
  {
   "cell_type": "markdown",
   "metadata": {},
   "source": [
    "## Expressive words"
   ]
  },
  {
   "cell_type": "code",
   "execution_count": 60,
   "metadata": {},
   "outputs": [],
   "source": [
    "\"\"\"\n",
    "Here we use run length encoding \n",
    "we convert each word to encoding such that it generate list of 2 tuples one has characters and other has count. \n",
    "\n",
    "\n",
    "\"\"\"\n",
    "\n",
    "def expressiveWords(self, S, words):\n",
    "    def RLE(S):\n",
    "        return zip(*[(k, len(list(grp)))\n",
    "                     for k, grp in itertools.groupby(S)])\n",
    "\n",
    "    R, count = RLE(S)\n",
    "    ans = 0\n",
    "    for word in words:\n",
    "        R2, count2 = RLE(word)\n",
    "        \n",
    "        \"\"\"\n",
    "        Here we are checking if the character tuples are same or not \n",
    "        \"\"\"\n",
    "        if R2 != R: continue\n",
    "        ans += all(c1 >= max(c2, 3) or c1 == c2\n",
    "                   for c1, c2 in zip(count, count2))\n",
    "\n",
    "    return ans"
   ]
  },
  {
   "cell_type": "markdown",
   "metadata": {},
   "source": [
    "## Valid Word Abbreviation"
   ]
  },
  {
   "cell_type": "code",
   "execution_count": 61,
   "metadata": {},
   "outputs": [],
   "source": [
    "\"\"\"\n",
    "word = word\n",
    "abbr = [\"word\", \"1ord\", \"w1rd\", \"wo1d\", \"wor1\", \"2rd\", \"w2d\", \"wo2\", \"1o1d\", \"1or1\", \"w1r1\", \"1o2\", \"2r1\", \"3d\", \"w3\", \"4\"]\n",
    "\"\"\"\n",
    "\n",
    "def validWordAbbreviation(word, abbr):\n",
    "    left, right = 0,0\n",
    "    stack = []\n",
    "    while left < len(abbr) and right < len(word):\n",
    "        if abbr[left] == word[right]:\n",
    "            left += 1\n",
    "            right += 1\n",
    "        elif not abbr[left].isalpha():\n",
    "            k = left\n",
    "            l = []\n",
    "            if abbr[left] == \"0\":\n",
    "                return False\n",
    "            while k < len(abbr) and not abbr[k].isalpha():\n",
    "                l.append(abbr[k])\n",
    "                k += 1\n",
    "            num = int(\"\".join(l))\n",
    "            left += k - left\n",
    "            right += num\n",
    "        else:\n",
    "            return False\n",
    "    return left == len(abbr) and right == len(word)"
   ]
  },
  {
   "cell_type": "markdown",
   "metadata": {},
   "source": [
    "## map * vs zip *"
   ]
  },
  {
   "cell_type": "code",
   "execution_count": 62,
   "metadata": {},
   "outputs": [],
   "source": [
    "words = [\"abcd\", \"xyz\"]"
   ]
  },
  {
   "cell_type": "code",
   "execution_count": 63,
   "metadata": {},
   "outputs": [
    {
     "data": {
      "text/plain": [
       "[('a', 'x'), ('b', 'y'), ('c', 'z'), ('d', None)]"
      ]
     },
     "execution_count": 63,
     "metadata": {},
     "output_type": "execute_result"
    }
   ],
   "source": [
    "map(None, *words)"
   ]
  },
  {
   "cell_type": "code",
   "execution_count": 64,
   "metadata": {},
   "outputs": [
    {
     "data": {
      "text/plain": [
       "[('a', 'x'), ('b', 'y'), ('c', 'z')]"
      ]
     },
     "execution_count": 64,
     "metadata": {},
     "output_type": "execute_result"
    }
   ],
   "source": [
    "zip(*words)"
   ]
  },
  {
   "cell_type": "markdown",
   "metadata": {},
   "source": [
    "## Trie"
   ]
  },
  {
   "cell_type": "code",
   "execution_count": 65,
   "metadata": {},
   "outputs": [],
   "source": [
    "import collections \n",
    "\n",
    "Trie = lambda: collections.defaultdict(Trie)\n",
    "trie = Trie()"
   ]
  },
  {
   "cell_type": "markdown",
   "metadata": {},
   "source": [
    "## Trie code"
   ]
  },
  {
   "cell_type": "code",
   "execution_count": 66,
   "metadata": {},
   "outputs": [
    {
     "data": {
      "text/plain": [
       "defaultdict(<function __main__.<lambda>>,\n",
       "            {'a': defaultdict(<function __main__.<lambda>>,\n",
       "                         {'b': defaultdict(<function __main__.<lambda>>,\n",
       "                                      {'c': defaultdict(<function __main__.<lambda>>,\n",
       "                                                   {True: 3,\n",
       "                                                    'd': defaultdict(<function __main__.<lambda>>,\n",
       "                                                                {True: 0})})})}),\n",
       "             'b': defaultdict(<function __main__.<lambda>>,\n",
       "                         {'c': defaultdict(<function __main__.<lambda>>,\n",
       "                                      {'d': defaultdict(<function __main__.<lambda>>,\n",
       "                                                   {'e': defaultdict(<function __main__.<lambda>>,\n",
       "                                                                {True: 1})})})}),\n",
       "             'd': defaultdict(<function __main__.<lambda>>,\n",
       "                         {'e': defaultdict(<function __main__.<lambda>>,\n",
       "                                      {'f': defaultdict(<function __main__.<lambda>>,\n",
       "                                                   {True: 2})})})})"
      ]
     },
     "execution_count": 66,
     "metadata": {},
     "output_type": "execute_result"
    }
   ],
   "source": [
    "words = [\"abcd\", \"bcde\", \"def\", \"abc\"]\n",
    "\n",
    "\n",
    "Trie = lambda: collections.defaultdict(Trie)\n",
    "trie = Trie()\n",
    "END = True\n",
    "\n",
    "for i, word in enumerate(words):\n",
    "    reduce(dict.__getitem__, word, trie)[END] = i\n",
    "\n",
    "trie"
   ]
  },
  {
   "cell_type": "code",
   "execution_count": 67,
   "metadata": {},
   "outputs": [
    {
     "data": {
      "text/plain": [
       "[defaultdict(<function __main__.<lambda>>,\n",
       "             {'b': defaultdict(<function __main__.<lambda>>,\n",
       "                          {'c': defaultdict(<function __main__.<lambda>>,\n",
       "                                       {True: 3,\n",
       "                                        'd': defaultdict(<function __main__.<lambda>>,\n",
       "                                                    {True: 0})})})}),\n",
       " defaultdict(<function __main__.<lambda>>,\n",
       "             {'c': defaultdict(<function __main__.<lambda>>,\n",
       "                          {'d': defaultdict(<function __main__.<lambda>>,\n",
       "                                       {'e': defaultdict(<function __main__.<lambda>>,\n",
       "                                                    {True: 1})})})}),\n",
       " defaultdict(<function __main__.<lambda>>,\n",
       "             {'e': defaultdict(<function __main__.<lambda>>,\n",
       "                          {'f': defaultdict(<function __main__.<lambda>>,\n",
       "                                       {True: 2})})})]"
      ]
     },
     "execution_count": 67,
     "metadata": {},
     "output_type": "execute_result"
    }
   ],
   "source": [
    "trie.values()"
   ]
  },
  {
   "cell_type": "markdown",
   "metadata": {},
   "source": [
    "## suffix Tree"
   ]
  },
  {
   "cell_type": "code",
   "execution_count": null,
   "metadata": {},
   "outputs": [],
   "source": []
  },
  {
   "cell_type": "markdown",
   "metadata": {},
   "source": [
    "## prefix tree"
   ]
  },
  {
   "cell_type": "code",
   "execution_count": null,
   "metadata": {},
   "outputs": [],
   "source": []
  },
  {
   "cell_type": "markdown",
   "metadata": {},
   "source": [
    "## Longest word in a list"
   ]
  },
  {
   "cell_type": "code",
   "execution_count": 68,
   "metadata": {},
   "outputs": [],
   "source": [
    "import collections\n",
    "\"\"\"\n",
    "[\"a\", \"banana\", \"app\", \"appl\", \"ap\", \"apply\", \"apple\"]\n",
    "Output: \"apple\"\n",
    "\"\"\"\n",
    "\n",
    "def longestWord(words):\n",
    "    wordset = set(words)\n",
    "    words.sort(key = lambda c: (-len(c), c))\n",
    "    print(words)\n",
    "    for word in words:\n",
    "        if all(word[:k] in wordset for k in xrange(1, len(word))):\n",
    "            return word\n",
    "\n",
    "    return \"\"\n",
    "\n",
    "\"\"\"Solution based on trie\"\"\"\n",
    "\n",
    "def longestWord(words):\n",
    "    Trie = lambda: collections.defaultdict(Trie)\n",
    "    trie = Trie()\n",
    "    END = True\n",
    "\n",
    "    for i, word in enumerate(words):\n",
    "        reduce(dict.__getitem__, word, trie)[END] = i\n",
    "\n",
    "    stack = trie.values()\n",
    "    ans = \"\"\n",
    "    while stack:\n",
    "        cur = stack.pop()\n",
    "        if END in cur:\n",
    "            word = words[cur[END]]\n",
    "            if len(word) > len(ans) or len(word) == len(ans) and word < ans:\n",
    "                ans = word\n",
    "            stack.extend([cur[letter] for letter in cur if letter != END])\n",
    "\n",
    "    return ans"
   ]
  },
  {
   "cell_type": "code",
   "execution_count": 69,
   "metadata": {},
   "outputs": [
    {
     "data": {
      "text/plain": [
       "'apple'"
      ]
     },
     "execution_count": 69,
     "metadata": {},
     "output_type": "execute_result"
    }
   ],
   "source": [
    "words = [\"a\", \"banana\", \"app\", \"appl\", \"ap\", \"apply\", \"apple\"]\n",
    "longestWord(words)"
   ]
  },
  {
   "cell_type": "markdown",
   "metadata": {},
   "source": [
    "Sort words by length then lexographically\n",
    "    \n",
    "    words.sort(key = lambda c: (-len(c), c))"
   ]
  },
  {
   "cell_type": "markdown",
   "metadata": {},
   "source": [
    "## WordSquares\n",
    "\n",
    "    First we create a prefix dictionary which has start word as key and words starting with that key in a list.\n",
    "    The idea is to select every word as a start word and then try out candidates for 2nd word. \n",
    "    \n",
    "    [\"area\",\"lead\",\"wall\",\"lady\",\"ball\"]\n",
    "    eg. we selected word \"wall\" as starting word now in next loop we will zip the array so that we will get seprate candidate to start next word with.\n",
    "    for 2nd we will select all words starting with 'a' as length of word array is 1.\n",
    "        wall\n",
    "        area\n",
    "    for 3rd we will select words starting with 'le'\n",
    "        wall\n",
    "        area\n",
    "        lead\n",
    "    for last we will select words starting with 'lad'\n",
    "        wall\n",
    "        area\n",
    "        lead\n",
    "        lady"
   ]
  },
  {
   "cell_type": "code",
   "execution_count": 70,
   "metadata": {},
   "outputs": [],
   "source": [
    "def wordSquares(words):\n",
    "    n = len(words[0])\n",
    "    fulls = collections.defaultdict(list)\n",
    "    for word in words:\n",
    "        for i in range(n):\n",
    "            fulls[word[:i]].append(word)\n",
    "    def build(square):\n",
    "        if len(square) == n:\n",
    "            squares.append(square)\n",
    "            return\n",
    "        for word in fulls[''.join(zip(*square)[len(square)])]:\n",
    "            build(square + [word])\n",
    "    squares = []\n",
    "    for word in words:\n",
    "        build([word])\n",
    "    return squares"
   ]
  },
  {
   "cell_type": "markdown",
   "metadata": {},
   "source": [
    "## regex example\n",
    "    remove punctuations"
   ]
  },
  {
   "cell_type": "code",
   "execution_count": 71,
   "metadata": {},
   "outputs": [
    {
     "data": {
      "text/plain": [
       "'abab'"
      ]
     },
     "execution_count": 71,
     "metadata": {},
     "output_type": "execute_result"
    }
   ],
   "source": [
    "import re\n",
    "re.sub('[!?\\',;.]',\"\", \"ab?.'!ab\")"
   ]
  },
  {
   "cell_type": "markdown",
   "metadata": {},
   "source": [
    "         we may use length of string as a key to dictionary to store words"
   ]
  },
  {
   "cell_type": "markdown",
   "metadata": {},
   "source": [
    "## Shortest Path Visiting All Nodes"
   ]
  },
  {
   "cell_type": "code",
   "execution_count": 72,
   "metadata": {},
   "outputs": [],
   "source": [
    "\"\"\"BFS Solution\"\"\"\n",
    "\n",
    "\"\"\"\n",
    "Here memo is not required it just improves the computation time ignoring revisits\n",
    "\n",
    "The idea is that as the numbers are marked from 0 to n-1 we can assign weight to each node as power of two \n",
    "so out final answer will reach when sum of all node visits is 2 ** n -1 \n",
    "\n",
    "we use bfs for this and for every step we calculate cost of moving to its neighbours when we reach the final sum\n",
    "we can return num steps for the first occurance of sum == final\n",
    "\n",
    "\"\"\"\n",
    "\n",
    "def shortestPathLength(graph):\n",
    "    memo, final, q, steps = set(), (1 << len(graph)) - 1, [(i, 1 << i) for i in range(len(graph))], 0\n",
    "    while True:\n",
    "        new = set()\n",
    "        for node, state in q:\n",
    "            if state == final: return steps\n",
    "            for v in graph[node]:\n",
    "                if (state | 1 << v, v) not in memo:\n",
    "                    new.add((v, state | 1 << v))\n",
    "                    memo.add((state | 1 << v, v))\n",
    "        q = new\n",
    "        steps += 1"
   ]
  },
  {
   "cell_type": "markdown",
   "metadata": {},
   "source": [
    "## Number of distinct subsequences\n",
    "    dp[i][j] = dp[i-1][j] + dp[i-1][j-1]*(s[i-1] == t[j-1])"
   ]
  },
  {
   "cell_type": "code",
   "execution_count": 73,
   "metadata": {},
   "outputs": [
    {
     "data": {
      "text/plain": [
       "4"
      ]
     },
     "execution_count": 73,
     "metadata": {},
     "output_type": "execute_result"
    }
   ],
   "source": [
    "\"\"\"\n",
    "Input: S = \"rabbbit\", T = \"rabbit\"\n",
    "Output: 3\n",
    "\n",
    "dp[i][j] = dp[i-1][j] + dp[i-1][j-1]*(s[i-1] == t[j-1])\n",
    "\"\"\"\n",
    "\n",
    "def numDistinct1(s, t):\n",
    "    l1, l2 = len(s)+1, len(t)+1\n",
    "    dp = [[1] * l2 for _ in xrange(l1)]\n",
    "    for j in xrange(1, l2):\n",
    "        dp[0][j] = 0\n",
    "    for i in xrange(1, l1):\n",
    "        for j in xrange(1, l2):\n",
    "            dp[i][j] = dp[i-1][j] + dp[i-1][j-1]*(s[i-1] == t[j-1])\n",
    "    return dp[-1][-1]\n",
    "\n",
    "numDistinct1(\"rabbbbit\", \"rabbbit\")"
   ]
  },
  {
   "cell_type": "markdown",
   "metadata": {},
   "source": [
    "## All Nodes Distance K in Binary Tree"
   ]
  },
  {
   "cell_type": "code",
   "execution_count": 74,
   "metadata": {},
   "outputs": [],
   "source": [
    "\"\"\"\n",
    "In this solution we annotate every node with its parent node and apply bfs to the generated graph\n",
    "\"\"\"\n",
    "\n",
    "def distanceK(self, root, target, K):\n",
    "    def dfs(root, par=None):\n",
    "        if root:\n",
    "            root.par = par\n",
    "            dfs(root.left, root)\n",
    "            dfs(root.right, root)\n",
    "    dfs(root)\n",
    "\n",
    "    seen = set()\n",
    "    q = [(target, 0)]\n",
    "    result = []\n",
    "    while q:\n",
    "        node, depth = q.pop(0)\n",
    "        seen.add(node)\n",
    "        if depth == K:\n",
    "            result.append(node.val)\n",
    "            continue\n",
    "        for nei in (node.par, node.left, node.right):\n",
    "            if nei and nei not in seen:\n",
    "                q.append((nei, depth+1))\n",
    "    return result"
   ]
  },
  {
   "cell_type": "markdown",
   "metadata": {},
   "source": [
    "## Longest increasing subsequence"
   ]
  },
  {
   "cell_type": "code",
   "execution_count": 75,
   "metadata": {},
   "outputs": [],
   "source": [
    "\"\"\"\n",
    "Normal O(n**2) solution\n",
    "\"\"\"\n",
    "\n",
    "def lengthOfLIS(self, nums):\n",
    "    if not nums:\n",
    "        return 0\n",
    "    length = len(nums)\n",
    "    ret = [1] * length\n",
    "    for i in range(1, length):\n",
    "        for j in range(i):\n",
    "            if nums[i] > nums[j]:\n",
    "                ret[i] = max(ret[i], ret[j] + 1)\n",
    "    return max(ret)\n",
    "\n",
    "\n",
    "\"\"\"\n",
    "Improved solution with bisect\n",
    "\n",
    "The idea is to generate array with increasing numbers if the number is greater we append \n",
    "if we find any number which is less than a number we replace that number so that we keep only smaller numbers in array \n",
    "so if any new number comes we can add it to array\n",
    "\n",
    "\"\"\"\n",
    "\n",
    "import bisect\n",
    "\n",
    "def lengthOfLIS(nums):\n",
    "    ret = [float('inf')] * len(nums)\n",
    "    result = 0\n",
    "    for num in nums:\n",
    "        index = bisect.bisect_left(ret, num)\n",
    "        ret[index] = num\n",
    "        if result < index + 1:\n",
    "            result = index + 1\n",
    "    return result"
   ]
  },
  {
   "cell_type": "markdown",
   "metadata": {},
   "source": [
    "## Longest Consecutive Sequence"
   ]
  },
  {
   "cell_type": "code",
   "execution_count": 76,
   "metadata": {},
   "outputs": [],
   "source": [
    "\"\"\"\n",
    "Input: [100, 4, 200, 1, 3, 2]\n",
    "Output: 4\n",
    "\"\"\"\n",
    "\n",
    "def longestConsecutive(nums):\n",
    "\n",
    "    longest = 0\n",
    "    n = set(nums)\n",
    "\n",
    "    for i in nums:\n",
    "        if (i - 1) not in n: \n",
    "            nxt = i + 1\n",
    "            current = 1\n",
    "            while nxt in n:\n",
    "                nxt += 1\n",
    "                current += 1\n",
    "            longest = max(longest, current)\n",
    "\n",
    "    return longest"
   ]
  },
  {
   "cell_type": "markdown",
   "metadata": {},
   "source": [
    "## Target Sum"
   ]
  },
  {
   "cell_type": "code",
   "execution_count": 77,
   "metadata": {},
   "outputs": [],
   "source": [
    "\"\"\"\n",
    "Input: nums is [1, 1, 1, 1, 1], S is 3. \n",
    "Output: 5\n",
    "Explanation: \n",
    "\n",
    "-1+1+1+1+1 = 3\n",
    "+1-1+1+1+1 = 3\n",
    "+1+1-1+1+1 = 3\n",
    "+1+1+1-1+1 = 3\n",
    "+1+1+1+1-1 = 3\n",
    "\n",
    "There are 5 ways to assign symbols to make the sum of nums be target 3.\n",
    "\n",
    "\"\"\"\n",
    "\n",
    "def findTargetSumWays(nums, S):\n",
    "    if not nums:\n",
    "        return 0\n",
    "    stack = {0:1}\n",
    "    for num in nums:\n",
    "        new_stack = {}\n",
    "        for element in stack:\n",
    "            new_stack[element+num] = new_stack.get(element+num, 0) + stack[element]\n",
    "            new_stack[element-num] = new_stack.get(element-num, 0) + stack[element]\n",
    "        stack = new_stack\n",
    "    return stack.get(S, 0)"
   ]
  },
  {
   "cell_type": "markdown",
   "metadata": {},
   "source": [
    "## Shortest Bridge"
   ]
  },
  {
   "cell_type": "code",
   "execution_count": 78,
   "metadata": {},
   "outputs": [],
   "source": [
    "import collections\n",
    "def shortestBridge(A):\n",
    "    row_len = len(A)\n",
    "    col_len = len(A[0])\n",
    "    queue = collections.deque()\n",
    "    visited = set()\n",
    "\n",
    "    def dfs(row, col):\n",
    "        if 0 <= row < row_len and 0 <= col < col_len and A[row][col] == 1 and (row, col) not in visited:\n",
    "            visited.add((row, col))\n",
    "            queue.append((row, col, 0))\n",
    "            dfs(row+1, col)\n",
    "            dfs(row-1, col)\n",
    "            dfs(row, col-1)\n",
    "            dfs(row, col+1)\n",
    "\n",
    "    b = False\n",
    "    for row in range(row_len):\n",
    "        for col in range(col_len):\n",
    "            if A[row][col] == 1:\n",
    "                dfs(row, col)\n",
    "                b = True\n",
    "                break\n",
    "        if b: break\n",
    "    \n",
    "    while queue:\n",
    "        row, col, d = queue.popleft()\n",
    "        if A[row][col] == 1 and (row, col) not in visited:\n",
    "            return d\n",
    "        visited.add((row, col))\n",
    "        for dx, dy in [(1,0), (-1,0), (0,1), (0,-1)]:\n",
    "            new_row = row + dx\n",
    "            new_col = col + dy\n",
    "            if 0 <= new_row < row_len and 0 <= new_col < col_len and (new_row, new_col) not in visited:\n",
    "                queue.append((new_row, new_col, d+1))"
   ]
  },
  {
   "cell_type": "markdown",
   "metadata": {},
   "source": [
    "## min depth of binary search tree"
   ]
  },
  {
   "cell_type": "code",
   "execution_count": 79,
   "metadata": {},
   "outputs": [],
   "source": [
    "def minDepth(self, root):\n",
    "\n",
    "    if root is None:\n",
    "        return 0\n",
    "    stack = [root]\n",
    "    new_stack = []\n",
    "    depth = 0\n",
    "    while True:\n",
    "        new_stack = []\n",
    "        while stack:\n",
    "            node = stack.pop()\n",
    "            if node.left is None and node.right is None:\n",
    "                return depth + 1\n",
    "            if node.left is not None:\n",
    "                new_stack.append(node.left)\n",
    "            if node.right is not None:\n",
    "                new_stack.append(node.right)\n",
    "        stack.extend(new_stack)\n",
    "        depth += 1\n",
    "        \n",
    "def minDepth(self, root):\n",
    "        \"\"\"\n",
    "        :type root: TreeNode\n",
    "        :rtype: int\n",
    "        \"\"\"\n",
    "        def mind(root):\n",
    "            if root is None:\n",
    "                return 0\n",
    "            elif root.left is None and root.right is None:\n",
    "                return 1\n",
    "            elif root.left is None:\n",
    "                return 1 + mind(root.right)\n",
    "            elif root.right is None:\n",
    "                return 1 + mind(root.left)\n",
    "            else:\n",
    "                return 1 + min(mind(root.left), mind(root.right))\n",
    "        return mind(root)"
   ]
  },
  {
   "cell_type": "markdown",
   "metadata": {},
   "source": [
    "## min falling path sum"
   ]
  },
  {
   "cell_type": "code",
   "execution_count": 80,
   "metadata": {},
   "outputs": [],
   "source": [
    "def minFallingPathSum(self, A):\n",
    "    \"\"\"\n",
    "    :type A: List[List[int]]\n",
    "    :rtype: int\n",
    "    \"\"\"\n",
    "    while len(A) >= 2:\n",
    "        row = A.pop()\n",
    "        for i in range(len(row)):\n",
    "            A[-1][i] += min(row[max(i-1,0): min(i+2, len(row))])\n",
    "    return min(A[-1])"
   ]
  },
  {
   "cell_type": "markdown",
   "metadata": {},
   "source": [
    "## num subarray with sum"
   ]
  },
  {
   "cell_type": "code",
   "execution_count": 81,
   "metadata": {},
   "outputs": [],
   "source": [
    "\"\"\"\n",
    "Input: A = [1,0,1,0,1], S = 2\n",
    "Output: 4\n",
    "Explanation: \n",
    "The 4 subarrays are bolded below:\n",
    "[1,0,1,0,1]\n",
    "[1,0,1,0,1]\n",
    "[1,0,1,0,1]\n",
    "[1,0,1,0,1]\n",
    "\"\"\"\n",
    "\n",
    "\n",
    "def numSubarraysWithSum(self, A, S):\n",
    "    P = [0]\n",
    "    for x in A: P.append(P[-1] + x)\n",
    "    count = collections.Counter()\n",
    "\n",
    "    ans = 0\n",
    "    for x in P:\n",
    "        ans += count[x]\n",
    "        count[x + S] += 1\n",
    "\n",
    "    return ans"
   ]
  },
  {
   "cell_type": "markdown",
   "metadata": {},
   "source": [
    "## number of LIS"
   ]
  },
  {
   "cell_type": "code",
   "execution_count": 82,
   "metadata": {},
   "outputs": [],
   "source": [
    "def findNumberOfLIS(nums):\n",
    "    N = len(nums)\n",
    "    if N <= 1: return N\n",
    "    lengths = [0] * N\n",
    "    counts = [1] * N\n",
    "\n",
    "    for i, num in enumerate(nums):\n",
    "        for j in xrange(i):\n",
    "            if nums[j] < nums[i]:\n",
    "                if lengths[j] >= lengths[i]:\n",
    "                    lengths[i] = 1 + lengths[j]\n",
    "                    counts[i] = counts[j]\n",
    "                elif lengths[j] + 1 == lengths[i]:\n",
    "                    counts[i] += counts[j]\n",
    "\n",
    "    longest = max(lengths)\n",
    "    return sum(c for i, c in enumerate(counts) if lengths[i] == longest)"
   ]
  },
  {
   "cell_type": "markdown",
   "metadata": {},
   "source": [
    "## Longest Mountain in array"
   ]
  },
  {
   "cell_type": "code",
   "execution_count": 83,
   "metadata": {},
   "outputs": [],
   "source": [
    "def longestMountain(self, A):\n",
    "    length = len(A)\n",
    "    start = 0\n",
    "    ans = 0\n",
    "\n",
    "    while start < length:\n",
    "        test = start\n",
    "        if test < length-1 and A[test] < A[test+1]:\n",
    "            while test < length-1 and A[test] < A[test+1]:\n",
    "                test += 1\n",
    "            if test < length-1 and A[test] > A[test+1]:\n",
    "                while test < length-1 and A[test] > A[test+1]:\n",
    "                    test += 1\n",
    "                ans = max(ans, test - start + 1)\n",
    "        start = max(test, start+1)\n",
    "    return ans"
   ]
  },
  {
   "cell_type": "markdown",
   "metadata": {},
   "source": [
    "## Longest increasing sequence in a matrix"
   ]
  },
  {
   "cell_type": "code",
   "execution_count": 84,
   "metadata": {},
   "outputs": [],
   "source": [
    "\"\"\"\n",
    "DFS solution apply dfs at every point and store result in a memo to reuse.\n",
    "\"\"\"\n",
    "\n",
    "from collections import defaultdict\n",
    "class Solution(object):\n",
    "    def longestIncreasingPath(self, matrix):\n",
    "        \"\"\"\n",
    "        :type matrix: List[List[int]]\n",
    "        :rtype: int\n",
    "        \"\"\"\n",
    "        dct = defaultdict(int)\n",
    "        \n",
    "        '''\n",
    "        Compute DFS from given cell\n",
    "        '''\n",
    "        def dfs(matrix, i, j):\n",
    "            if (i, j) in dct:\n",
    "                return dct[(i, j)]\n",
    "            if not (0<=i<len(matrix) and 0<=j<len(matrix[0])):\n",
    "                return 0\n",
    "            res = [1] # If no neighbors exist, return 1\n",
    "            for row, col in [(i-1, j), (i+1, j),(i, j-1), (i, j+1)]:\n",
    "                if (0<=row<len(matrix) and 0<=col<len(matrix[0])):\n",
    "                    if matrix[row][col]>matrix[i][j]:\n",
    "                        res.append(1+dfs(matrix, row, col))\n",
    "            dct[(i, j)] = max(res)\n",
    "            return dct[(i, j)]\n",
    "        \n",
    "        '''\n",
    "        Run DFS from every cell\n",
    "        '''\n",
    "        currmax = 0\n",
    "        for i in range(0, len(matrix)):\n",
    "            for j in range(0, len(matrix[i])):\n",
    "                currmax = max(dfs(matrix, i, j), currmax)\n",
    "        return currmax"
   ]
  },
  {
   "cell_type": "markdown",
   "metadata": {},
   "source": [
    "## minimum window substring"
   ]
  },
  {
   "cell_type": "code",
   "execution_count": 85,
   "metadata": {},
   "outputs": [],
   "source": [
    "\"\"\"\n",
    "Input: \n",
    "S = \"abcdebdde\", T = \"bde\"\n",
    "Output: \"bcde\"\n",
    "\"\"\"\n",
    "def minWindow(self, S, T):\n",
    "    col_len = len(S)\n",
    "    row_len = len(T)\n",
    "\n",
    "    dp = [[(float('inf')) for _ in range(col_len + 1)] for _ in range(row_len+1)]\n",
    "    for row in range(1, row_len+1):\n",
    "        for col in range(1, col_len+1):\n",
    "            if S[col-1] == T[row-1]:\n",
    "                if row == 1:\n",
    "                    dp[row][col] = 1\n",
    "                else:\n",
    "                    dp[row][col] = dp[row-1][col-1] + 1\n",
    "            else:\n",
    "                dp[row][col] = dp[row][col-1] + 1\n",
    "\n",
    "    min_val = float('inf')\n",
    "    index = 0\n",
    "    for i in range(0, col_len+1):\n",
    "        if dp[-1][i] < min_val:\n",
    "            min_val = dp[-1][i]\n",
    "            index = i\n",
    "    return S[index-min_val: index] if min_val != float('inf') else \"\""
   ]
  },
  {
   "cell_type": "markdown",
   "metadata": {},
   "source": [
    "## Longest Repeating Character Replacement"
   ]
  },
  {
   "cell_type": "code",
   "execution_count": 86,
   "metadata": {},
   "outputs": [],
   "source": [
    "\"\"\"\n",
    "Input:\n",
    "s = \"AABABBA\", k = 1\n",
    "\n",
    "Output:\n",
    "4\n",
    "\n",
    "\"\"\"\n",
    "\n",
    "def characterReplacement(self, s, k):\n",
    "    result = 0\n",
    "    window = collections.defaultdict(int)\n",
    "    i = 0\n",
    "    for j in range(len(s)):\n",
    "        window[s[j]] += 1\n",
    "        while sum(window.values()) - max(window.values()) > k:\n",
    "            if window[s[i]] == 1:\n",
    "                del window[s[i]]\n",
    "            else:\n",
    "                window[s[i]] -= 1\n",
    "            i += 1\n",
    "        result = max(result, j - i + 1)\n",
    "    return result"
   ]
  },
  {
   "cell_type": "markdown",
   "metadata": {},
   "source": [
    "## Longest substring with at least k repeating characters"
   ]
  },
  {
   "cell_type": "code",
   "execution_count": 87,
   "metadata": {},
   "outputs": [],
   "source": [
    "def longestSubstring(self, s, k):\n",
    "    for c in set(s):\n",
    "        if s.count(c) < k:\n",
    "            return max(self.longestSubstring(t, k) for t in s.split(c))\n",
    "    return len(s)"
   ]
  },
  {
   "cell_type": "markdown",
   "metadata": {},
   "source": [
    "## isSubsequence"
   ]
  },
  {
   "cell_type": "code",
   "execution_count": 88,
   "metadata": {},
   "outputs": [],
   "source": [
    "def isSubsequence(s, t):\n",
    "    j = 0\n",
    "    for i in range(len(s)):\n",
    "        while len(t) > j and s[i] == t[j]:\n",
    "            j += 1\n",
    "    return j == len(t)"
   ]
  },
  {
   "cell_type": "code",
   "execution_count": 89,
   "metadata": {},
   "outputs": [],
   "source": [
    "\"\"\"\n",
    "This is faster approach for is subsequence\n",
    "\"\"\"\n",
    "\n",
    "s = \"dsapxple\"\n",
    "word = \"apple\"\n",
    "def isSubsequence(s, t):\n",
    "    it = iter(s)\n",
    "    return all(word in it for word in t)"
   ]
  },
  {
   "cell_type": "code",
   "execution_count": 90,
   "metadata": {},
   "outputs": [
    {
     "data": {
      "text/plain": [
       "True"
      ]
     },
     "execution_count": 90,
     "metadata": {},
     "output_type": "execute_result"
    }
   ],
   "source": [
    "isSubsequence(s, word)"
   ]
  },
  {
   "cell_type": "markdown",
   "metadata": {},
   "source": [
    "## Longest Substring with At Most Two Distinct Characters"
   ]
  },
  {
   "cell_type": "code",
   "execution_count": 91,
   "metadata": {},
   "outputs": [],
   "source": [
    "\"\"\"\n",
    "Input: \"eceba\"\n",
    "Output: 3\n",
    "Explanation: t is \"ece\" which its length is 3.\n",
    "\"\"\"\n",
    "\n",
    "def lengthOfLongestSubstringTwoDistinct(self, s):\n",
    "    c = collections.Counter()\n",
    "    result = 0\n",
    "    j = 0\n",
    "    for i in range(len(s)):\n",
    "        c[s[i]] += 1\n",
    "        while j < len(s) and len(c) > 2:\n",
    "            if c[s[j]] == 1:\n",
    "                del c[s[j]]\n",
    "            else:\n",
    "                c[s[j]] -= 1\n",
    "            j += 1\n",
    "        result = max(result, i - j + 1)\n",
    "    return result"
   ]
  },
  {
   "cell_type": "code",
   "execution_count": 92,
   "metadata": {},
   "outputs": [],
   "source": [
    "\"\"\"\n",
    "longest paliandrome o(n) solution\n",
    "\"\"\"\n",
    "def longestPalindrome(s):\n",
    "    if not s:\n",
    "        return \"\"\n",
    "\n",
    "    maxm = 1\n",
    "    n = len(s)\n",
    "    start = 0\n",
    "    for i in range(n):\n",
    "        if i - maxm >= 1 and s[i - maxm - 1:i + 1] == s[i - maxm - 1:i + 1][::-1]:\n",
    "            start = i - maxm - 1\n",
    "            maxm += 2\n",
    "            continue\n",
    "        if i - maxm >= 0 and s[i - maxm:i + 1] == s[i - maxm:i + 1][::-1]:\n",
    "            start = i - maxm\n",
    "            maxm += 1\n",
    "    return s[start:start + maxm]"
   ]
  },
  {
   "cell_type": "markdown",
   "metadata": {},
   "source": [
    "    sorted to string returns list\n",
    "        sorted(\"ABCD\")\n",
    "        ['A', 'B', 'C', 'D']"
   ]
  },
  {
   "cell_type": "markdown",
   "metadata": {},
   "source": [
    "    check even odd\n",
    "       n & 1 == 0"
   ]
  },
  {
   "cell_type": "markdown",
   "metadata": {},
   "source": [
    "## insert interval / merge Interval\n",
    "    array must be sorted according to start time"
   ]
  },
  {
   "cell_type": "code",
   "execution_count": 93,
   "metadata": {},
   "outputs": [],
   "source": [
    "\"\"\"\n",
    "Insert interval\n",
    "\n",
    "\n",
    "here we keep 3 different arrays one for start part, one for interval part we merge any overlapping intervals with that\n",
    "\n",
    "third is non overalpping part after interval\n",
    "\"\"\"\n",
    "\n",
    "def insert(intervals, newInterval):\n",
    "    start = []\n",
    "    index = 0\n",
    "    for index, i in enumerate(intervals):\n",
    "        if i.start > newInterval.end:\n",
    "            index -= 1\n",
    "            break\n",
    "        elif i.end < newInterval.start:\n",
    "            start += i,\n",
    "        else:\n",
    "            newInterval.start, newInterval.end = min(newInterval.start, i.start), max(newInterval.end, i.end)\n",
    "    return start + [newInterval] + intervals[index+1:]"
   ]
  },
  {
   "cell_type": "markdown",
   "metadata": {},
   "source": [
    "## isIsomorphic\n",
    "    len(set(zip(s, t))) == len(set(s)) == len(set(t))"
   ]
  },
  {
   "cell_type": "markdown",
   "metadata": {},
   "source": [
    "### Reverse a linked list"
   ]
  },
  {
   "cell_type": "code",
   "execution_count": 94,
   "metadata": {},
   "outputs": [],
   "source": [
    "def reverseLL(head):    \n",
    "    def reverse(node, prev=None):\n",
    "        if not node:\n",
    "                return prev\n",
    "        n = node.next\n",
    "        node.next = prev\n",
    "        return reverse(n, node)\n",
    "    return reverse(head)\n",
    "\n",
    "\n",
    "def reverseLL(head):\n",
    "    prev = None\n",
    "    while head:\n",
    "        node = head.next\n",
    "        head.next = prev\n",
    "        prev = head\n",
    "        head = node\n",
    "    return prev"
   ]
  },
  {
   "cell_type": "markdown",
   "metadata": {},
   "source": [
    "## Word Search 2\n",
    "    words = [\"oath\",\"pea\",\"eat\",\"rain\"] and board =\n",
    "    [\n",
    "      ['o','a','a','n'],\n",
    "      ['e','t','a','e'],\n",
    "      ['i','h','k','r'],\n",
    "      ['i','f','l','v']\n",
    "    ]\n",
    "\n",
    "    Output: [\"eat\",\"oath\"]"
   ]
  },
  {
   "cell_type": "code",
   "execution_count": 95,
   "metadata": {},
   "outputs": [],
   "source": [
    "\"\"\"\n",
    "The task is to find whether the words in dictionary are present in the matrix or not\n",
    "For that we will create a trie data structure which will help us traversing through the loop.\n",
    "and we perform dfs sending trie values\n",
    "\"\"\"\n",
    "\n",
    "class Solution:\n",
    "    def findWords(self, board, words):\n",
    "        trie={}\n",
    "        for w in words:\n",
    "            t=trie\n",
    "            for c in w:\n",
    "                if c not in t:\n",
    "                    t[c]={}\n",
    "                t=t[c]\n",
    "            t['#']='#'\n",
    "        self.res=set()\n",
    "        self.used=[[False]*len(board[0]) for _ in range(len(board))]\n",
    "        for i in range(len(board)):\n",
    "            for j in range(len(board[0])):\n",
    "                self.find(board,i,j,trie,'')\n",
    "        return list(self.res)\n",
    "    \n",
    "    def find(self,board,i,j,trie,pre):\n",
    "        if '#' in trie:\n",
    "            self.res.add(pre)\n",
    "        if i<0 or i>=len(board) or j<0 or j>=len(board[0]):\n",
    "            return\n",
    "        if not self.used[i][j] and board[i][j] in trie:\n",
    "            self.used[i][j]=True\n",
    "            self.find(board,i+1,j,trie[board[i][j]],pre+board[i][j])\n",
    "            self.find(board,i,j+1,trie[board[i][j]],pre+board[i][j])\n",
    "            self.find(board,i-1,j,trie[board[i][j]],pre+board[i][j])\n",
    "            self.find(board,i,j-1,trie[board[i][j]],pre+board[i][j])\n",
    "            self.used[i][j]=False"
   ]
  },
  {
   "cell_type": "markdown",
   "metadata": {},
   "source": [
    "## Word Ladder 2"
   ]
  },
  {
   "cell_type": "code",
   "execution_count": 96,
   "metadata": {},
   "outputs": [],
   "source": [
    "\"\"\"\n",
    "\n",
    "beginWord = \"hit\",\n",
    "endWord = \"cog\",\n",
    "wordList = [\"hot\",\"dot\",\"dog\",\"lot\",\"log\",\"cog\"]\n",
    "\n",
    "Output:\n",
    "[\n",
    "  [\"hit\",\"hot\",\"dot\",\"dog\",\"cog\"],\n",
    "  [\"hit\",\"hot\",\"lot\",\"log\",\"cog\"]\n",
    "]\n",
    "\n",
    "we create a dictionary that has key which is end word in current iteration\n",
    "we process each iteration and store results into an array which is used in next iteration\n",
    "we keep on removing the elements from wordList as we proceed.\n",
    "\n",
    "\"\"\"\n",
    "def findLadders(self, beginWord, endWord, wordList):\n",
    "    wordList = set(wordList)\n",
    "    res = []\n",
    "    layer = {}\n",
    "    layer[beginWord] = [[beginWord]]\n",
    "    while layer:\n",
    "        newLayer = collections.defaultdict(list)\n",
    "        for w in layer:\n",
    "            if w == endWord:\n",
    "                res.extend(l for l in layer[w])\n",
    "            for i in range(len(w)):\n",
    "                for c in 'abcdefghijklmnopqrstuvwxyz':\n",
    "                    newWord = w[:i] + c + w[i+1:]\n",
    "                    if newWord in wordList:\n",
    "                        newLayer[newWord] += [l + [newWord] for l in layer[w]]\n",
    "        wordList -= set(newLayer.keys())\n",
    "        layer = newLayer\n",
    "    return res"
   ]
  },
  {
   "cell_type": "markdown",
   "metadata": {},
   "source": [
    "## word ladder"
   ]
  },
  {
   "cell_type": "code",
   "execution_count": 97,
   "metadata": {},
   "outputs": [],
   "source": [
    "class Solution(object):\n",
    "    def ladderLength(self, beginWord, endWord, wordList):\n",
    "        wordList = set(wordList)\n",
    "        queue = collections.deque([[beginWord, 1]])\n",
    "        while queue:\n",
    "            word, length = queue.popleft()\n",
    "            if word == endWord:\n",
    "                return length\n",
    "            for i in range(len(word)):\n",
    "                for c in 'abcdefghijklmnopqrstuvwxyz':\n",
    "                    next_word = word[:i] + c + word[i+1:]\n",
    "                    if next_word in wordList:\n",
    "                        wordList.remove(next_word)\n",
    "                        queue.append([next_word, length + 1])\n",
    "        return 0"
   ]
  },
  {
   "cell_type": "markdown",
   "metadata": {},
   "source": [
    "## Surrounded Regions"
   ]
  },
  {
   "cell_type": "code",
   "execution_count": 98,
   "metadata": {},
   "outputs": [],
   "source": [
    "class Solution:\n",
    "    def solve(self, board):\n",
    "        \"\"\"\n",
    "        start with the edge elements row-wise and column-wise\n",
    "        \"\"\"\n",
    "        if len(board) == 0:\n",
    "            return\n",
    "        row_num = len(board)\n",
    "        col_num = len(board[0])\n",
    "        \n",
    "        def dfs(i,j):\n",
    "            if 0 <= i < row_num and 0 <= j < col_num and board[i][j] == 'O':\n",
    "                board[i][j] = 'S'\n",
    "                for x, y in [(-1,0), (1,0), (0,-1), (0,1)]:\n",
    "                    dfs(i+x, j+y)\n",
    "\n",
    "        for i in range(row_num):\n",
    "            if board[i][0] == 'O':\n",
    "                dfs(i, 0)\n",
    "            if board[i][col_num-1] == 'O':\n",
    "                dfs(i, col_num-1)\n",
    "        for i in range(col_num):\n",
    "            if board[0][i] == 'O':\n",
    "                dfs(0, i)\n",
    "            if board[row_num-1][i] == 'O':\n",
    "                dfs(row_num-1, i)\n",
    "        for row in range(row_num):\n",
    "            for col in range(col_num):\n",
    "                if board[row][col] == 'S':\n",
    "                    board[row][col] = 'O'\n",
    "                    continue\n",
    "                board[row][col] = 'X'"
   ]
  },
  {
   "cell_type": "markdown",
   "metadata": {},
   "source": [
    "## Clone graph"
   ]
  },
  {
   "cell_type": "code",
   "execution_count": 99,
   "metadata": {},
   "outputs": [],
   "source": [
    "def cloneGraph(self, node):\n",
    "    if not node:\n",
    "        return \n",
    "    nodeCopy = UndirectedGraphNode(node.label)\n",
    "    dic = {node: nodeCopy}\n",
    "    queue = collections.deque([node])\n",
    "    while queue:\n",
    "        node = queue.popleft()\n",
    "        for neighbor in node.neighbors:\n",
    "            if neighbor not in dic: # neighbor is not visited\n",
    "                neighborCopy = UndirectedGraphNode(neighbor.label)\n",
    "                dic[neighbor] = neighborCopy\n",
    "                dic[node].neighbors.append(neighborCopy)\n",
    "                queue.append(neighbor)\n",
    "            else:\n",
    "                dic[node].neighbors.append(dic[neighbor])\n",
    "    return nodeCopy"
   ]
  },
  {
   "cell_type": "markdown",
   "metadata": {},
   "source": [
    "## Distinct Subsequences"
   ]
  },
  {
   "cell_type": "code",
   "execution_count": 100,
   "metadata": {},
   "outputs": [],
   "source": [
    "# O(m*n) space \n",
    "def numDistinct1(self, s, t):\n",
    "    l1, l2 = len(s)+1, len(t)+1\n",
    "    dp = [[1] * l2 for _ in xrange(l1)]\n",
    "    for j in xrange(1, l2):\n",
    "        dp[0][j] = 0\n",
    "    for i in xrange(1, l1):\n",
    "        for j in xrange(1, l2):\n",
    "            dp[i][j] = dp[i-1][j] + dp[i-1][j-1]*(s[i-1] == t[j-1])\n",
    "    return dp[-1][-1]\n",
    "  \n",
    "# O(n) space  \n",
    "def numDistinct(self, s, t):\n",
    "    l1, l2 = len(s)+1, len(t)+1\n",
    "    cur = [0] * l2\n",
    "    cur[0] = 1\n",
    "    for i in xrange(1, l1):\n",
    "        pre = cur[:]\n",
    "        for j in xrange(1, l2):\n",
    "            cur[j] = pre[j] + pre[j-1]*(s[i-1] == t[j-1])\n",
    "    return cur[-1]"
   ]
  },
  {
   "cell_type": "markdown",
   "metadata": {},
   "source": [
    "## meeting rooms 2"
   ]
  },
  {
   "cell_type": "code",
   "execution_count": 101,
   "metadata": {},
   "outputs": [],
   "source": [
    "class Solution(object):\n",
    "    def minMeetingRooms(self, intervals):\n",
    "\n",
    "        if not intervals:\n",
    "            return 0\n",
    "        d = {}\n",
    "        for i in intervals:\n",
    "            d[i.start] = d.get(i.start, 0) + 1\n",
    "            d[i.end] = d.get(i.end, 0) - 1\n",
    "        max_value = 1 \n",
    "        value = 0\n",
    "        for key in sorted(d.keys()):\n",
    "            value += d[key]\n",
    "            max_value = max(max_value, value)\n",
    "        return max_value"
   ]
  },
  {
   "cell_type": "markdown",
   "metadata": {},
   "source": [
    "## median data stream"
   ]
  },
  {
   "cell_type": "code",
   "execution_count": 102,
   "metadata": {},
   "outputs": [],
   "source": [
    "class MedianFinder:\n",
    "    def __init__(self):\n",
    "        self.small = []\n",
    "        self.large = []\n",
    "\n",
    "    def addNum(self, num):\n",
    "        if len(self.small) == len(self.large):\n",
    "            heappush(self.large, -heappushpop(self.small, -num))\n",
    "        else:\n",
    "            heappush(self.small, -heappushpop(self.large, num))\n",
    "\n",
    "    def findMedian(self):\n",
    "        if len(self.small) == len(self.large):\n",
    "            return float(self.large[0] - self.small[0]) / 2.0\n",
    "        else:\n",
    "            return float(self.large[0])\n",
    "        \n",
    "        \n",
    "\"\"\"using bisect\"\"\"\n",
    "\n",
    "class MedianFinder:\n",
    "    def __init__(self):\n",
    "        self.array = []\n",
    "        self.count = 0\n",
    "\n",
    "    def addNum(self, num):\n",
    "        bisect.insort(self.array, num)\n",
    "        self.count += 1\n",
    "\n",
    "    def findMedian(self):\n",
    "        if self.count == 0:\n",
    "            return 0\n",
    "        elif self.count % 2 != 0:\n",
    "            return self.array[self.count//2] * 1.0\n",
    "        else:\n",
    "            return (self.array[self.count//2] + self.array[self.count//2 -1]) / 2.0"
   ]
  },
  {
   "cell_type": "markdown",
   "metadata": {},
   "source": [
    "## serailize deserialize binary tree"
   ]
  },
  {
   "cell_type": "code",
   "execution_count": 103,
   "metadata": {},
   "outputs": [],
   "source": [
    "class Codec:\n",
    "    lst = []\n",
    "\n",
    "    def preorder(self, root):\n",
    "        if root:\n",
    "            self.lst.append(str(root.val))\n",
    "            self.preorder(root.left)\n",
    "            self.preorder(root.right)\n",
    "        else:\n",
    "            self.lst.append(\"#\")\n",
    "        \n",
    "    def serialize(self, root):\n",
    "        \"\"\"Encodes a tree to a single string.\n",
    "        \n",
    "        :type root: TreeNode\n",
    "        :rtype: str\n",
    "        \"\"\"\n",
    "        self.lst = [] \n",
    "        self.preorder(root)\n",
    "        return \" \".join(self.lst)\n",
    "        \n",
    "        \n",
    "\n",
    "    def deserialize(self, data):\n",
    "        \"\"\"Decodes your encoded data to tree.\n",
    "        \n",
    "        :type data: str\n",
    "        :rtype: TreeNode\n",
    "        \"\"\"\n",
    "        def func():\n",
    "            value = next(var)\n",
    "            if value == \"#\":\n",
    "                return None\n",
    "            node = TreeNode(int(value))\n",
    "            node.left = func()\n",
    "            node.right = func()\n",
    "            return node\n",
    "            \n",
    "        var = iter(data.split())\n",
    "        return func()"
   ]
  },
  {
   "cell_type": "markdown",
   "metadata": {},
   "source": [
    "    There's an alternative to the StopIteration by using next(iterator, default_value).\n",
    "\n",
    "    For exapmle:\n",
    "\n",
    "    >>> a = iter('hi')\n",
    "    >>> print next(a, None)\n",
    "    h\n",
    "    >>> print next(a, None)\n",
    "    i\n",
    "    >>> print next(a, None)\n",
    "    None"
   ]
  },
  {
   "cell_type": "markdown",
   "metadata": {},
   "source": [
    "## smallest range\n",
    "\n",
    "    find smallest range for 3 sorted array's\n",
    "   "
   ]
  },
  {
   "cell_type": "code",
   "execution_count": 104,
   "metadata": {},
   "outputs": [],
   "source": [
    "\"\"\"\n",
    "The idea is to get min from each array and find ranges at each step\n",
    " \n",
    "\"\"\"\n",
    "\n",
    "def smallestRange(self, A):\n",
    "    pq = [(row[0], i, 0) for i, row in enumerate(A)]\n",
    "    heapq.heapify(pq)\n",
    "    \n",
    "    ans = -1e9, 1e9\n",
    "    right = max(row[0] for row in A)\n",
    "    while pq:\n",
    "        left, i, j = heapq.heappop(pq)\n",
    "        if right - left < ans[1] - ans[0]:\n",
    "            ans = left, right\n",
    "        if j + 1 == len(A[i]):\n",
    "            return ans\n",
    "        v = A[i][j+1]\n",
    "        right = max(right, v)\n",
    "        heapq.heappush(pq, (v, i, j+1))"
   ]
  },
  {
   "cell_type": "markdown",
   "metadata": {},
   "source": [
    "## Range sum query 2 - D"
   ]
  },
  {
   "cell_type": "code",
   "execution_count": 105,
   "metadata": {},
   "outputs": [],
   "source": [
    "class NumMatrix:\n",
    "\n",
    "    def __init__(self, matrix):\n",
    "        self.sums = [[0] * (len(matrix and matrix[0]) + 1) for _ in range(len(matrix) + 1)]\n",
    "        for i in range(len(matrix)):\n",
    "            for j in range(len(matrix and matrix[0])):\n",
    "                self.sums[i + 1][j + 1] = self.sums[i][j + 1] + self.sums[i + 1][j] - self.sums[i][j] + matrix[i][j]\n",
    "\n",
    "    def sumRegion(self, row1, col1, row2, col2):\n",
    "        return self.sums[row2 + 1][col2 + 1] - self.sums[row2 + 1][col1] - self.sums[row1][col2 + 1] + self.sums[row1][col1]"
   ]
  },
  {
   "cell_type": "markdown",
   "metadata": {},
   "source": [
    "## House Robber 3 \n",
    "    using tree"
   ]
  },
  {
   "cell_type": "code",
   "execution_count": 106,
   "metadata": {},
   "outputs": [],
   "source": [
    " def rob(self, root):\n",
    "    def rob_helper(root):\n",
    "        if root == None:\n",
    "            return (0, 0)\n",
    "        x = rob_helper(root.left)\n",
    "        y = rob_helper(root.right)\n",
    "        return (max(root.val + x[-1] + y[-1], x[0] + y[0]), x[0] + y[0])\n",
    "    return rob_helper(root)[0]"
   ]
  },
  {
   "cell_type": "markdown",
   "metadata": {},
   "source": [
    "## Tic tac toe"
   ]
  },
  {
   "cell_type": "code",
   "execution_count": 107,
   "metadata": {},
   "outputs": [],
   "source": [
    "class TicTacToe(object):\n",
    "\n",
    "    def __init__(self, n):\n",
    "        self.row, self.col, self.diag, self.anti_diag, self.n = [0] * n, [0] * n, 0, 0, n\n",
    "        \n",
    "\n",
    "    def move(self, row, col, player):\n",
    "        offset = player * 2 - 3\n",
    "        self.row[row] += offset\n",
    "        self.col[col] += offset\n",
    "        if row == col:\n",
    "            self.diag += offset\n",
    "        if row + col == self.n - 1:\n",
    "            self.anti_diag += offset\n",
    "        if self.n * offset in [self.row[row], self.col[col], self.diag, self.anti_diag]:\n",
    "            return player\n",
    "        return 0"
   ]
  },
  {
   "cell_type": "markdown",
   "metadata": {},
   "source": [
    "## Counter\n",
    "    & intersection of two counter \n",
    "    | union of two counter"
   ]
  },
  {
   "cell_type": "code",
   "execution_count": 134,
   "metadata": {},
   "outputs": [],
   "source": [
    "from collections import Counter"
   ]
  },
  {
   "cell_type": "code",
   "execution_count": 135,
   "metadata": {},
   "outputs": [],
   "source": [
    "c1, c2 = Counter([1,1,2,3,4,4]), Counter([1,1,3,4,4,4])"
   ]
  },
  {
   "cell_type": "code",
   "execution_count": 136,
   "metadata": {},
   "outputs": [
    {
     "data": {
      "text/plain": [
       "Counter({1: 2, 3: 1, 4: 2})"
      ]
     },
     "execution_count": 136,
     "metadata": {},
     "output_type": "execute_result"
    }
   ],
   "source": [
    "c1 & c2"
   ]
  },
  {
   "cell_type": "code",
   "execution_count": 137,
   "metadata": {},
   "outputs": [
    {
     "data": {
      "text/plain": [
       "Counter({1: 2, 2: 1, 3: 1, 4: 3})"
      ]
     },
     "execution_count": 137,
     "metadata": {},
     "output_type": "execute_result"
    }
   ],
   "source": [
    "c1 | c2"
   ]
  },
  {
   "cell_type": "code",
   "execution_count": 138,
   "metadata": {},
   "outputs": [
    {
     "data": {
      "text/plain": [
       "Counter({1: 4, 2: 1, 3: 2, 4: 5})"
      ]
     },
     "execution_count": 138,
     "metadata": {},
     "output_type": "execute_result"
    }
   ],
   "source": [
    "c1 + c2"
   ]
  },
  {
   "cell_type": "markdown",
   "metadata": {},
   "source": [
    "## Longest increasing path in a matrix"
   ]
  },
  {
   "cell_type": "code",
   "execution_count": 112,
   "metadata": {},
   "outputs": [],
   "source": [
    "\"\"\"\n",
    "We apply dfs at each node and we store results of each node in dictionary\n",
    "\"\"\"\n",
    "\n",
    "def longestIncreasingPath(self, A):\n",
    "    \n",
    "    if not A or not A[0]:\n",
    "        return 0\n",
    "    row_len = len(A)\n",
    "    col_len = len(A[0])\n",
    "    d = {}\n",
    "    result = 0\n",
    "    def dfs(row, col):\n",
    "        ret = 1\n",
    "        if (row, col) in d:\n",
    "            return d[(row,col)]\n",
    "        for new_row, new_col in [(row+x, col+y) for x, y in [(1,0),(-1,0),(0,1),(0,-1)]]:\n",
    "            if 0 <= new_row < row_len and 0<= new_col < col_len and A[row][col] < A[new_row][new_col]:\n",
    "                ret = max(ret, 1+dfs(new_row, new_col))\n",
    "        d[(row, col)] = ret\n",
    "        return ret\n",
    "\n",
    "    for row in range(row_len):\n",
    "        for col in range(col_len):\n",
    "            result = max(result, dfs(row, col))\n",
    "    return result"
   ]
  },
  {
   "cell_type": "markdown",
   "metadata": {},
   "source": [
    "## Reconstruct Itinerary"
   ]
  },
  {
   "cell_type": "code",
   "execution_count": null,
   "metadata": {},
   "outputs": [],
   "source": []
  },
  {
   "cell_type": "markdown",
   "metadata": {},
   "source": [
    "## remove duplicates and return in lexo order"
   ]
  },
  {
   "cell_type": "code",
   "execution_count": 113,
   "metadata": {},
   "outputs": [],
   "source": [
    "def removeDuplicateLetters(self, s):\n",
    "    for c in sorted(set(s)):\n",
    "        suffix = s[s.index(c):]\n",
    "        if set(suffix) == set(s):\n",
    "            return c + self.removeDuplicateLetters(suffix.replace(c, ''))\n",
    "    return ''"
   ]
  },
  {
   "cell_type": "markdown",
   "metadata": {},
   "source": [
    "## K pair with smallest sum"
   ]
  },
  {
   "cell_type": "code",
   "execution_count": 114,
   "metadata": {},
   "outputs": [],
   "source": [
    "class Solution(object):\n",
    "    def kSmallestPairs(self, nums1, nums2, k, heap=[]):\n",
    "        for n1 in nums1:\n",
    "            for n2 in nums2:\n",
    "                if len(heap) < k: heapq.heappush(heap, (-n1-n2, [n1, n2]))\n",
    "                else:\n",
    "                    if heap and -heap[0][0] > n1 + n2:\n",
    "                        heapq.heappop(heap)\n",
    "                        heapq.heappush(heap, (-n1-n2, [n1, n2]))\n",
    "                    else: break\n",
    "        return [heapq.heappop(heap)[1] for _ in range(k) if heap]"
   ]
  },
  {
   "cell_type": "markdown",
   "metadata": {},
   "source": [
    "## Number of Unique BST"
   ]
  },
  {
   "cell_type": "code",
   "execution_count": 115,
   "metadata": {},
   "outputs": [],
   "source": [
    "def numTrees(self, n):\n",
    "    ## for any increasing numbers no. of binary search trees are same.\n",
    "    ## 1,2,3 will have same number of bst as 5,6,7\n",
    "\n",
    "    ## to find number of binary search trees for n\n",
    "    ## iterate through the array with each array element as a root.\n",
    "    ## multiply number of left sub trees with number of right subtrees\n",
    "\n",
    "    res = [0 for i in range(n+1)]\n",
    "    res[0] = 1\n",
    "    res[1] = 1\n",
    "\n",
    "    for i in range(2,n+1):\n",
    "        for j in range(0,i):\n",
    "            # print(i, j, i-j-1)\n",
    "            res[i] += res[j] * res[i-j-1]\n",
    "\n",
    "    return res[n]"
   ]
  },
  {
   "cell_type": "markdown",
   "metadata": {},
   "source": [
    "## Generate Unique BST"
   ]
  },
  {
   "cell_type": "code",
   "execution_count": 116,
   "metadata": {},
   "outputs": [],
   "source": [
    "class Solution:\n",
    "    def generateTrees(self, n):\n",
    "        if n == 0:\n",
    "            return []\n",
    "        def node(val, left, right):\n",
    "            node = TreeNode(val)\n",
    "            node.left = left\n",
    "            node.right = right\n",
    "            return node\n",
    "        def trees(first, last):\n",
    "            return [node(root, left, right)\n",
    "                    for root in range(first, last+1)\n",
    "                    for left in trees(first, root-1)\n",
    "                    for right in trees(root+1, last)] or [None]\n",
    "        return trees(1, n)"
   ]
  },
  {
   "cell_type": "markdown",
   "metadata": {},
   "source": [
    "## Maximize the distance to closest"
   ]
  },
  {
   "cell_type": "code",
   "execution_count": 117,
   "metadata": {},
   "outputs": [],
   "source": [
    "\"\"\"\n",
    "Input: [1,0,0,0]\n",
    "Output: 3\n",
    "Explanation: \n",
    "If Alex sits in the last seat, the closest person is 3 seats away.\n",
    "This is the maximum distance possible, so the answer is 3.\n",
    "\n",
    "\"\"\"\n",
    "\n",
    "\n",
    "def maxDistToClosest(self, seats):\n",
    "    l,r = 0, 0\n",
    "    ret = 0\n",
    "    while r < len(seats):\n",
    "        if l == 0 and seats[l] == 0:\n",
    "            ret = max(ret, r-l)\n",
    "        if r == len(seats) - 1 and seats[r] == 0:\n",
    "            ret = max(ret, r-l)\n",
    "        if seats[r] == 1:\n",
    "            ret = max(ret, (r-l)/2)\n",
    "            l = r\n",
    "            r += 1\n",
    "        else:\n",
    "            r += 1\n",
    "    return ret"
   ]
  },
  {
   "cell_type": "markdown",
   "metadata": {},
   "source": [
    "## Exam Room"
   ]
  },
  {
   "cell_type": "code",
   "execution_count": null,
   "metadata": {},
   "outputs": [],
   "source": []
  },
  {
   "cell_type": "markdown",
   "metadata": {},
   "source": [
    "## has path sum root to leaf"
   ]
  },
  {
   "cell_type": "code",
   "execution_count": 118,
   "metadata": {},
   "outputs": [],
   "source": [
    "def hasPathSum(self, root, target):\n",
    "    def traverse(root, s=0):\n",
    "        if root is None:\n",
    "            return False\n",
    "        val = root.val\n",
    "        if root.left is None and root.right is None and s + val == target:\n",
    "            return True\n",
    "        return traverse(root.left, s+val) or traverse(root.right, s+val)\n",
    "    return traverse(root)"
   ]
  },
  {
   "cell_type": "markdown",
   "metadata": {},
   "source": [
    "## path sum 2\n",
    "    return sum"
   ]
  },
  {
   "cell_type": "code",
   "execution_count": 119,
   "metadata": {},
   "outputs": [],
   "source": [
    "def pathSum(self, root, target):\n",
    "    result = []\n",
    "    def traverse(root, s=0, ret=[]):\n",
    "        if root is None:\n",
    "            return\n",
    "        val = root.val\n",
    "        if root.left is None and root.right is None and s + val == target:\n",
    "            ret += [val]\n",
    "            result.append(ret)\n",
    "        traverse(root.left, s+val, ret+[val])\n",
    "        traverse(root.right, s+val, ret+[val])\n",
    "    traverse(root)\n",
    "    return result"
   ]
  },
  {
   "cell_type": "markdown",
   "metadata": {},
   "source": [
    "## path sum 3 & 4"
   ]
  },
  {
   "cell_type": "code",
   "execution_count": null,
   "metadata": {},
   "outputs": [],
   "source": []
  },
  {
   "cell_type": "markdown",
   "metadata": {},
   "source": [
    "## buy sell stocks with cooldown"
   ]
  },
  {
   "cell_type": "code",
   "execution_count": 120,
   "metadata": {},
   "outputs": [],
   "source": [
    "\"\"\"\n",
    "\n",
    "The key is 3 states and 5 edges for state transition. 3 states are notHold (stock), hold (stock), and notHold_cooldown. The initial values of the latter two are negative infinity since they are meaningless, i.e. you won't hold stocks at first and there's no cooldown at first. The 5 edges:\n",
    "\n",
    "hold -----do nothing----->hold\n",
    "\n",
    "hold -----sell----->notHold_cooldown\n",
    "\n",
    "notHold -----do nothing -----> notHold\n",
    "\n",
    "notHold -----buy-----> hold\n",
    "\n",
    "notHold_cooldown -----do nothing----->notHold\n",
    "\n",
    "\"\"\"\n",
    "\n",
    "def maxProfit(self, prices):\n",
    "    notHold, notHold_cooldown, hold = 0, float('-inf'), float('-inf')\n",
    "    for p in prices:\n",
    "        hold, notHold, notHold_cooldown = max(hold, notHold - p), max(notHold, notHold_cooldown), hold + p\n",
    "    return max(notHold, notHold_cooldown)"
   ]
  },
  {
   "cell_type": "code",
   "execution_count": 121,
   "metadata": {},
   "outputs": [],
   "source": [
    "nums = [1,1,2,3,3,3,4]"
   ]
  },
  {
   "cell_type": "code",
   "execution_count": 122,
   "metadata": {},
   "outputs": [
    {
     "data": {
      "text/plain": [
       "[3, 3, 3, 1, 1, 2, 4]"
      ]
     },
     "execution_count": 122,
     "metadata": {},
     "output_type": "execute_result"
    }
   ],
   "source": [
    "sorted(nums, key=nums.count, reverse=True)"
   ]
  },
  {
   "cell_type": "markdown",
   "metadata": {},
   "source": [
    "## Largest Rectangular Area Histogram"
   ]
  },
  {
   "cell_type": "code",
   "execution_count": 123,
   "metadata": {},
   "outputs": [],
   "source": [
    "\"\"\"\n",
    "\n",
    "    The O(n^2) solution with O(1) space throws TLE\n",
    "    Try using more space.\n",
    "\n",
    "\n",
    "    maxArea = 0\n",
    "    num = len(heights)\n",
    "    for i in range(num):\n",
    "        minHeight = float('inf')\n",
    "        for j in range(i, num):\n",
    "            minHeight = min(minHeight, heights[j])\n",
    "            maxArea = max(maxArea, (j-i+1) * minHeight)\n",
    "    return maxArea\n",
    "    \n",
    "    \n",
    "    \n",
    "    divide and cocur also throws TLE when the array is sorted the complexity becomes O(n^2)\n",
    "    \n",
    "    def largestRectangleArea(self, heights):\n",
    "        def calculateArea(heights, start, end):\n",
    "            if start > end:\n",
    "                return 0\n",
    "            minHeight = start\n",
    "            for i in range(start, end+1):\n",
    "                if heights[minHeight] > heights[i]:\n",
    "                    minHeight = i\n",
    "            return max(heights[minHeight]*(end-start+1), calculateArea(heights, start, minHeight-1), calculateArea(heights, minHeight+1, end))\n",
    "        return calculateArea(heights, 0, len(heights)-1)\n",
    "    \n",
    "    \n",
    "    works : Using stacks O(n) time O(n) space\n",
    "    \n",
    "    def largestRectangleArea(self, heights):\n",
    "        maxArea = 0\n",
    "        stack = []\n",
    "        for i, val in enumerate(heights+[0]):\n",
    "            while stack and stack[-1][1] > val:\n",
    "                index, height = stack.pop()\n",
    "                width = i - stack[-1][0] - 1 if stack else i\n",
    "                maxArea = max(maxArea, width * height)\n",
    "            stack.append((i, val))\n",
    "        return maxArea\n",
    "    \"\"\" \n",
    "    \n",
    "def largestRectangleArea(self, heights):\n",
    "    maxArea = 0\n",
    "    stack = []\n",
    "    for i, val in enumerate(heights+[0]):\n",
    "        while stack and stack[-1][1] > val:\n",
    "            index, height = stack.pop()\n",
    "            width = i - stack[-1][0] - 1 if stack else i\n",
    "            maxArea = max(maxArea, width * height)\n",
    "        stack.append((i, val))\n",
    "    return maxArea"
   ]
  },
  {
   "cell_type": "markdown",
   "metadata": {},
   "source": [
    "## calculate division"
   ]
  },
  {
   "cell_type": "code",
   "execution_count": 124,
   "metadata": {},
   "outputs": [],
   "source": [
    "def calcEquation(self, equations, values, queries):\n",
    "    quot = collections.defaultdict(dict)\n",
    "    for (source, dest), val in zip(equations, values):\n",
    "        quot[source][dest] = val\n",
    "        quot[dest][source] = 1.0/ val\n",
    "        quot[source][source] = quot[dest][dest] = 1\n",
    "    for k in quot:\n",
    "        for i in quot[k]:\n",
    "            for j in quot[k]:\n",
    "                quot[i][j] = quot[i][k] * quot[k][j]\n",
    "    return [quot[source].get(dest, -1) for source, dest in queries]"
   ]
  },
  {
   "cell_type": "markdown",
   "metadata": {},
   "source": [
    "## Longest Palindrome"
   ]
  },
  {
   "cell_type": "code",
   "execution_count": 125,
   "metadata": {},
   "outputs": [],
   "source": [
    "def longestPalindrome(self, s):\n",
    "    max_len=1\n",
    "    end=1\n",
    "    for i in range(1,len(s)):\n",
    "        if i-max_len-1>=0 and s[i-max_len-1:i+1]==s[i-max_len-1:i+1][::-1]:\n",
    "            max_len+=2\n",
    "            end=i+1\n",
    "            continue\n",
    "        if s[i-max_len:i+1]==s[i-max_len:i+1][::-1]:\n",
    "            max_len+=1\n",
    "            end=i+1\n",
    "    return s[end-max_len:end]"
   ]
  },
  {
   "cell_type": "markdown",
   "metadata": {},
   "source": [
    "## MAximal reactangle"
   ]
  },
  {
   "cell_type": "code",
   "execution_count": 126,
   "metadata": {},
   "outputs": [],
   "source": [
    "def maximalRectangle(self, matrix):\n",
    "    if not matrix or not matrix[0]:\n",
    "        return 0\n",
    "    n = len(matrix[0])\n",
    "    height = [0] * (n + 1)\n",
    "    ans = 0\n",
    "    for row in matrix:\n",
    "        for i in xrange(n):\n",
    "            height[i] = height[i] + 1 if row[i] == '1' else 0\n",
    "        stack = [-1]\n",
    "        for i in xrange(n + 1):\n",
    "            while height[i] < height[stack[-1]]:\n",
    "                h = height[stack.pop()]\n",
    "                w = i - 1 - stack[-1]\n",
    "                ans = max(ans, h * w)\n",
    "            stack.append(i)\n",
    "    return ans"
   ]
  },
  {
   "cell_type": "code",
   "execution_count": 127,
   "metadata": {},
   "outputs": [],
   "source": [
    "l = [\n",
    "  \"abcd\",\n",
    "  \"bnrt\",\n",
    "  \"crmy\",\n",
    "  \"dtye\"\n",
    "]"
   ]
  },
  {
   "cell_type": "code",
   "execution_count": 131,
   "metadata": {},
   "outputs": [
    {
     "data": {
      "text/plain": [
       "[('a', 'b', 'c', 'd'),\n",
       " ('b', 'n', 'r', 't'),\n",
       " ('c', 'r', 'm', 'y'),\n",
       " ('d', 't', 'y', 'e')]"
      ]
     },
     "execution_count": 131,
     "metadata": {},
     "output_type": "execute_result"
    }
   ],
   "source": [
    "map(None,*l)"
   ]
  },
  {
   "cell_type": "code",
   "execution_count": 133,
   "metadata": {},
   "outputs": [],
   "source": [
    "def letterCombinations(self, digits):\n",
    "        if len(digits) == 0:\n",
    "            return []\n",
    "        mapping = {'2': 'abc', '3': 'def', '4': 'ghi', '5': 'jkl', \n",
    "                   '6': 'mno', '7': 'pqrs', '8': 'tuv', '9': 'wxyz'}\n",
    "        if len(digits) == 1:\n",
    "            return list(mapping[digits[0]])\n",
    "        result = []\n",
    "        for digit in digits:\n",
    "            temp = []\n",
    "            for ch in mapping[digit]:\n",
    "                if not result:\n",
    "                    temp.append(ch)\n",
    "                else:\n",
    "                    temp.extend([i+ch for i in result])\n",
    "            result = temp\n",
    "        return result"
   ]
  },
  {
   "cell_type": "markdown",
   "metadata": {},
   "source": [
    "    less than operation with set"
   ]
  },
  {
   "cell_type": "markdown",
   "metadata": {},
   "source": [
    "    sorted(string)  returns a list"
   ]
  },
  {
   "cell_type": "markdown",
   "metadata": {},
   "source": [
    "## reverse k groups"
   ]
  },
  {
   "cell_type": "code",
   "execution_count": 140,
   "metadata": {},
   "outputs": [],
   "source": [
    "def reverseKGroup(self, head, k):\n",
    "    dummy = jump = ListNode(0)\n",
    "    dummy.next = l = r = head\n",
    "    \n",
    "    while True:\n",
    "        count = 0\n",
    "        while r and count < k:   # use r to locate the range\n",
    "            r = r.next\n",
    "            count += 1\n",
    "        if count == k:  # if size k satisfied, reverse the inner linked list\n",
    "            pre, cur = r, l\n",
    "            for _ in range(k):\n",
    "                cur.next, cur, pre = pre, cur.next, cur  # standard reversing\n",
    "            jump.next, jump, l = pre, l, r  # connect two k-groups\n",
    "        else:\n",
    "            return dummy.next"
   ]
  },
  {
   "cell_type": "code",
   "execution_count": null,
   "metadata": {},
   "outputs": [],
   "source": []
  }
 ],
 "metadata": {
  "kernelspec": {
   "display_name": "Python 3",
   "language": "python",
   "name": "python3"
  },
  "language_info": {
   "codemirror_mode": {
    "name": "ipython",
    "version": 2
   },
   "file_extension": ".py",
   "mimetype": "text/x-python",
   "name": "python",
   "nbconvert_exporter": "python",
   "pygments_lexer": "ipython2",
   "version": "2.7.15rc1"
  }
 },
 "nbformat": 4,
 "nbformat_minor": 2
}
